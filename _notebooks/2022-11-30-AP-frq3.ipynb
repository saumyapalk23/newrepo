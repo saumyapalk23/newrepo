{
 "cells": [
  {
   "cell_type": "markdown",
   "metadata": {},
   "source": [
    "# FRQ 3\n",
    "> Relationship of FRQ 3 to a Project Based learning exercise.\n",
    "- title: FRQ3 - Array/ArrayList\n",
    "- toc: true\n",
    "- badges: false\n",
    "- image: /images/frqs.png\n",
    "- categories: [1.B]\n",
    "- tags: [api]\n",
    "- type: ap\n",
    "- week: 14"
   ]
  },
  {
   "cell_type": "markdown",
   "metadata": {},
   "source": [
    "## Calculator\n",
    "> Helping a computer interpret a Mathematical expression is a derivation of FRQ3 that involves using ArrayLists, Stack, and Map.  These are key data structures that exist in Java.  To obtain a deeper understanding of ArrayList, or its List interface, it is to use it in many applications."
   ]
  },
  {
   "cell_type": "markdown",
   "metadata": {},
   "source": [
    "### Operators and Precedence\n",
    "> To support mathematical expressions you need to define Unique List of operators that are supported by your Calculator."
   ]
  },
  {
   "cell_type": "code",
   "execution_count": null,
   "metadata": {
    "vscode": {
     "languageId": "java"
    }
   },
   "outputs": [],
   "source": [
    "// Helper definition to define operators, lookup in MAP are fast and easy O(1) versus ArrayList O(n)\n",
    "private final Map<String, Integer> OPERATORS = new HashMap<>();\n",
    "{\n",
    "    // Map<\"token\", precedence>\n",
    "    OPERATORS.put(\"*\", 3);\n",
    "    OPERATORS.put(\"/\", 3);\n",
    "    OPERATORS.put(\"%\", 3);\n",
    "    OPERATORS.put(\"+\", 4);\n",
    "    OPERATORS.put(\"-\", 4);\n",
    "}"
   ]
  },
  {
   "cell_type": "markdown",
   "metadata": {},
   "source": [
    "### Organizing an Expression\n",
    "> To support terms in mathematical expression you need to define symbols (other than operators) that help delineate the elements of an expression.  Ultimately, the String expression will be broken in distinct elements in a List, we will call each element a Token.\n",
    "\n",
    "- FRQ3 calls these delimiters. ***Many encoded strings contain delimiters. A delimiter is a non-empty string that acts as a boundary between different parts of a larger string. The delimiters involved in this question occur in pairs that must be balanced,with each pair having an open delimiter and a close delimiter.***\n",
    "\n",
    "- FRQ3 mentions expressions. Expressions in mathematics use open parentheses \"(\" and close parentheses \")\" as delimiters. For each open parenthesis, there must be a matching close parenthesis.\n",
    "    - (x + y) * 5 is a valid mathematical expression.\n",
    "    - (x + (y) is NOT a valid mathematical expression because there are more open delimiters than close delimiters."
   ]
  },
  {
   "cell_type": "code",
   "execution_count": null,
   "metadata": {
    "vscode": {
     "languageId": "java"
    }
   },
   "outputs": [],
   "source": [
    "\n",
    "// Helper definition for supported separators\n",
    "private final Map<String, Integer> SEPARATORS = new HashMap<>();\n",
    "{\n",
    "    // Map<\"separator\", not_used>\n",
    "    SEPARATORS.put(\" \", 0);\n",
    "    SEPARATORS.put(\"(\", 0);\n",
    "    SEPARATORS.put(\")\", 0);\n",
    "}"
   ]
  },
  {
   "cell_type": "markdown",
   "metadata": {},
   "source": [
    "### Expression Evaluation\n",
    "To detect operators and separators in the String expression, requires test functions to detect the tokens. These methods will assist in establishing Control Flow in evaluating the expression."
   ]
  },
  {
   "cell_type": "code",
   "execution_count": null,
   "metadata": {
    "vscode": {
     "languageId": "java"
    }
   },
   "outputs": [],
   "source": [
    "// Test if token is an operator\n",
    "private boolean isOperator(String token) {\n",
    "    // find the token in the hash map\n",
    "    return OPERATORS.containsKey(token);\n",
    "}\n",
    "\n",
    "// Test if token is an separator\n",
    "private boolean isSeparator(String token) {\n",
    "    // find the token in the hash map\n",
    "    return SEPARATORS.containsKey(token);\n",
    "}\n",
    "\n",
    "// Compare precedence of operators.\n",
    "private Boolean isPrecedent(String token1, String token2) {\n",
    "    // token 1 is precedent if it is greater than token 2\n",
    "    return (OPERATORS.get(token1) - OPERATORS.get(token2) >= 0) ;\n",
    "}"
   ]
  },
  {
   "cell_type": "markdown",
   "metadata": {},
   "source": [
    "## Calculator Theory\n",
    "> Mathematical expression written by humans are in the form of a String Expression.  Since this expression is simply a string to the computer...  an algorithm is required to reform the equation for the computer to ensure it interprets expression according to the rules of mathematics. \n",
    "- In mathematics, an expression or mathematical expression is a finite combination of symbols that is well-formed (ie \"100 + 200\").\n",
    "- In computers, a string expression is hard to calculate.  Thus, the expression needs to be restructured according to rules of Mathematics that a computer can calculate.  For instance, the order of precedence rules, aka PEMDAS (parenthesis, exponents, multiplication, division, addition, subtraction) need to be factored into order of computation. To support these rules, in computer math we often convert a String expression into Reverse Polish Notation (RPN).  This converts a simple string like \"3 + 4\" to become [\"100\", \"200\", \"+\"]) using the Shunting-yard algorithm.\n",
    "\n",
    "> String expression to calculation will need  a flow of control.   A Class (aka model) is defined with instance variables, one argument constructor, and a toString.  In this code, the flow is in the Calculator calculation is contained in the constructor.\n",
    "- Capture original input\n",
    "- Parse expression into mathematical terms\n",
    "- If using Shunting-yard algorithm, place terms into RPN\n",
    "- Calculate RPN to a result\n"
   ]
  },
  {
   "cell_type": "code",
   "execution_count": null,
   "metadata": {
    "vscode": {
     "languageId": "java"
    }
   },
   "outputs": [],
   "source": [
    "// Key instance variables\n",
    "private final String expression;\n",
    "private ArrayList<String> tokens;\n",
    "private ArrayList<String> reverse_polish;\n",
    "private Double result;\n",
    "\n",
    "\n",
    "// Create a 1 argument constructor providing a mathematical expression\n",
    "    public Calculator(String expression) {\n",
    "        // original input\n",
    "        this.expression = expression;\n",
    "\n",
    "        // parse expression into terms\n",
    "        this.termTokenizer();\n",
    "\n",
    "        // place terms into reverse polish notation\n",
    "        this.tokensToReversePolishNotation();\n",
    "\n",
    "        // calculate reverse polish notation\n",
    "        this.rpnToResult();\n",
    "    }\n",
    "\n",
    "    // Print the expression, terms, and result\n",
    "    public String toString() {\n",
    "        return (\"Original expression: \" + this.expression + \"\\n\" +\n",
    "                \"Tokenized expression: \" + this.tokens.toString() + \"\\n\" +\n",
    "                \"Reverse Polish Notation: \" +this.reverse_polish.toString() + \"\\n\" +\n",
    "                \"Final result: \" + String.format(\"%.2f\", this.result));\n",
    "    }"
   ]
  },
  {
   "cell_type": "markdown",
   "metadata": {},
   "source": [
    "### Term Tokenizer\n",
    "> FRQ3 talks about changing terms to tokens. A string containing text and possibly delimiters has been split into tokens and stored in String[] tokens. Each token is either an open delimiter, a close delimiter, or a substring that is not a delimiter. You will write the method getDelimitersList, which returns an ArrayList containing all the open and close delimiters found in tokens in their original order.\n",
    "    - openDel: \"(\"\n",
    "    - closeDel: \")\"\n",
    "    - tokens: \"(\" \"100 + 200\" \")\" \" * 3\"\n",
    "    - ArrayList of delimiters: \"(\" \")\"\n",
    "\n",
    "\n",
    "> The method termTokenizer() is used to change the String expression into a series of tokens that constitute distinct elements of a Mathematical expression.  The result is retained in the ArrayList \"tokens\".  Every token, including parenthesis, is an element in the \"tokens\" ArrayList.\n",
    "    - Example 1: Simple Math\n",
    "        - Original expression: 100 + 200  * 3\n",
    "        - tokens ArrayList: [100, +, 200, *, 3]\n",
    "    - Example 2: Parenthesis Math to change order of operations\n",
    "        - Original expression: (100 + 200)  * 3\n",
    "        - tokens ArrayList: [(, 100, +, 200, ), *, 3]\n"
   ]
  },
  {
   "cell_type": "code",
   "execution_count": null,
   "metadata": {
    "vscode": {
     "languageId": "java"
    }
   },
   "outputs": [],
   "source": [
    "// Term Tokenizer takes original expression and converts it to ArrayList of tokens\n",
    "private void termTokenizer() {\n",
    "    // contains final list of tokens\n",
    "    this.tokens = new ArrayList<>();\n",
    "\n",
    "    int start = 0;  // term split starting index\n",
    "    StringBuilder multiCharTerm = new StringBuilder();    // term holder\n",
    "    for (int i = 0; i < this.expression.length(); i++) {\n",
    "        Character c = this.expression.charAt(i);\n",
    "        if ( isOperator(c.toString() ) || isSeperator(c.toString())  ) {\n",
    "            // 1st check for working term and add if it exists\n",
    "            if (multiCharTerm.length() > 0) {\n",
    "                tokens.add(this.expression.substring(start, i));\n",
    "            }\n",
    "            // Add operator or parenthesis term to list\n",
    "            if (c != ' ') {\n",
    "                tokens.add(c.toString());\n",
    "            }\n",
    "            // Get ready for next term\n",
    "            start = i + 1;\n",
    "            multiCharTerm = new StringBuilder();\n",
    "        } else {\n",
    "            // multi character terms: numbers, functions, perhaps non-supported elements\n",
    "            // Add next character to working term\n",
    "            multiCharTerm.append(c);\n",
    "        }\n",
    "\n",
    "    }\n",
    "    // Add last term\n",
    "    if (multiCharTerm.length() > 0) {\n",
    "        tokens.add(this.expression.substring(start));\n",
    "    }\n",
    "}"
   ]
  },
  {
   "cell_type": "markdown",
   "metadata": {},
   "source": [
    "### Tokens to RPN\n",
    "> Before calculation the tokens need to be turned into RPN.  During calculation solvin algorithm will work Left to Right.  1. go to first operator, 2. obtain to the left the amount of operands required for operator, 3. solve.\n",
    "- Simple Math.\n",
    "    - Original expression: 100 + 200  * 3\n",
    "    - RPN: [100, 200, 3, *, +]\n",
    "    - Calc Step 1: [100, 600, +] # 600 is calc of 100, 200, *\n",
    "    - Calc Step 2 [700]\n",
    "\n",
    "- Parenthesis Math. Note RPN difference\n",
    "    - Original expression: (100 + 200)  * 3\n",
    "    - RPN: [100, 200, +, 3, *]\n",
    "    - Calc Step 1: [300, 3, *]\n",
    "    - Calc Step 2: [900]"
   ]
  },
  {
   "cell_type": "code",
   "execution_count": null,
   "metadata": {
    "vscode": {
     "languageId": "java"
    }
   },
   "outputs": [],
   "source": [
    "// Takes tokens and converts to Reverse Polish Notation (RPN).\n",
    "private void tokensToReversePolishNotation () {\n",
    "    // contains final list of tokens in RPN\n",
    "    List<String> reverse_polish = new ArrayList<>();\n",
    "\n",
    "    // stack is used to reorder for appropriate grouping and precedence\n",
    "    Stack tokenStack = new Stack();\n",
    "    for (String token : tokens) {\n",
    "        switch (token) {\n",
    "            // If left bracket push token on to stack\n",
    "            case \"(\":\n",
    "                tokenStack.push(token);\n",
    "                break;\n",
    "            case \")\":\n",
    "                while (tokenStack.peek() != null && !tokenStack.peek().equals(\"(\"))\n",
    "                {\n",
    "                    reverse_polish.add( (String)tokenStack.pop() );\n",
    "                }\n",
    "                tokenStack.pop();\n",
    "                break;\n",
    "            case \"+\":\n",
    "            case \"-\":\n",
    "            case \"*\":\n",
    "            case \"/\":\n",
    "            case \"%\":\n",
    "                // While stack\n",
    "                // not empty AND stack top element\n",
    "                // and is an operator\n",
    "                while (tokenStack.peek() != null && isOperator((String) tokenStack.peek()))\n",
    "                {\n",
    "                    if ( isPrecedent(token, (String) tokenStack.peek() )) {\n",
    "                        reverse_polish.add((String)tokenStack.pop());\n",
    "                        continue;\n",
    "                    }\n",
    "                    break;\n",
    "                }\n",
    "                // Push the new operator on the stack\n",
    "                tokenStack.push(token);\n",
    "                break;\n",
    "            default:    // Default should be a number, there could be test here\n",
    "                this.reverse_polish.add(token);\n",
    "        }\n",
    "    }\n",
    "    // Empty remaining tokens\n",
    "    while (tokenStack.peek() != null) {\n",
    "        reverse_polish.add((String)tokenStack.pop());\n",
    "    }\n",
    "\n",
    "}"
   ]
  },
  {
   "cell_type": "markdown",
   "metadata": {},
   "source": [
    "### RPN to Result\n",
    "> Below is setup/pseudo code to produce a result.  This is opportunity to learn about a Stack, by adding and removing elements from the stack according to intermediate and final results."
   ]
  },
  {
   "cell_type": "code",
   "execution_count": null,
   "metadata": {
    "vscode": {
     "languageId": "java"
    }
   },
   "outputs": [],
   "source": [
    "// Takes RPN and produces a final result\n",
    "private void rpnToResult()\n",
    "{\n",
    "    // stack is used to hold operands and each calculation\n",
    "    Stack<Double> calcStack = new Stack<Double>();\n",
    "\n",
    "    // RPN is processed, ultimately calcStack has final result\n",
    "    for (String token : this.reverse_polish)\n",
    "    {\n",
    "        // If the token is an operator, calculate\n",
    "        if (isOperator(token))\n",
    "        {\n",
    "            // Pop the two top entries\n",
    "\n",
    "            // Calculate intermediate results\n",
    "            result = 0.0;\n",
    "\n",
    "            // Push intermediate result back onto the stack\n",
    "            calcStack.push( result );\n",
    "        }\n",
    "        // else the token is a number push it onto the stack\n",
    "        else\n",
    "        {\n",
    "            calcStack.push(Double.valueOf(token));\n",
    "        }\n",
    "    }\n",
    "    // Pop final result and set as final result for expression\n",
    "    this.result = calcStack.pop();\n",
    "}"
   ]
  },
  {
   "cell_type": "markdown",
   "metadata": {},
   "source": [
    "## Driver / Tester\n",
    "> A Class should always have a driver for testing.  In a driver for expressions, you will need to consider multiple conditions, for instance changes with precedence..."
   ]
  },
  {
   "cell_type": "markdown",
   "metadata": {},
   "source": [
    "### Output Examples\n",
    "> Here are sample outputs for the calculator\n",
    "\n",
    "```text\n",
    "Simple Math\n",
    "Original expression: 100 + 200  * 3\n",
    "Tokenized expression: [100, +, 200, *, 3]\n",
    "Reverse Polish Notation: [100, 200, 3, *, +]\n",
    "Final result: 700.00\n",
    "\n",
    "Parenthesis Math\n",
    "Original expression: (100 + 200)  * 3\n",
    "Tokenized expression: [(, 100, +, 200, ), *, 3]\n",
    "Reverse Polish Notation: [100, 200, +, 3, *]\n",
    "Final result: 900.00\n",
    "\n",
    "Decimal Math\n",
    "Original expression: 100.2 - 99.3\n",
    "Tokenized expression: [100.2, -, 99.3]\n",
    "Reverse Polish Notation: [100.2, 99.3, -]\n",
    "Final result: 0.90\n",
    "\n",
    "Modulo Math\n",
    "Original expression: 300 % 200\n",
    "Tokenized expression: [300, %, 200]\n",
    "Reverse Polish Notation: [300, 200, %]\n",
    "Final result: 100.00\n",
    "\n",
    "Division Math\n",
    "Original expression: 300/200\n",
    "Tokenized expression: [300, /, 200]\n",
    "Reverse Polish Notation: [300, 200, /]\n",
    "Final result: 1.50\n",
    "```"
   ]
  },
  {
   "cell_type": "markdown",
   "metadata": {},
   "source": [
    "## Hacks\n",
    "> Build a calculator to process expressions and ultimately change RPN to a calculation.\n",
    "1. Finish rpnToResult for Calculator\n",
    "2. Build in Power of operator ^: 2 ^ 1 = 2, 2 ^ 2 = 4, 2 ^ 3 = 8\n",
    "3. Build an API to receive an expression\n",
    "\n",
    "> Advanced. Deeper parsing and evaluation.\n",
    "- Try adding single argument function SQRT.  This should be combined with ()'s to make sense, SQRT(expression).  Though \"SQRT 1\" could work.\n",
    "- Build variable into expression \"a = 3; b + 4; SQRT(a^2 + b^2)\".  Hint... build a HashMap for variables.\n",
    "- At this point you probably have Physics and Calculus possibilities for managing and modeling equations.\n",
    "\n",
    "> Advanced. Deployment and Frontend.\n",
    "- Deploy all of your APIs to Team Backend repo.\n",
    "- Start making Frontend pages to interact with APIs.\n",
    "\n",
    "> Advanced.  Try other evaluations or use cases of parsing Strings to Tokens.\n",
    "- Make a Tokenizer for sentences to words.\n",
    "- Count words, count punctuation.\n",
    "- Find definitions for Words or Translations.\n",
    "\n",
    "> Basic Skill building, do FRQ3.  FYI, isBalanced could help in error corrections for Calculator.\n",
    "```java\n",
    "public class Delimiters\n",
    "private String openDel\n",
    "private String closeDel\n",
    "public Delimiters(String open, String close)\n",
    "public ArrayList<String> getDelimitersList(String[] tokens)\n",
    "public boolean isBalanced(ArrayList<String> delimiters) \n",
    "```\n",
    "\n",
    "\n"
   ]
  }
 ],
 "metadata": {
  "kernelspec": {
   "display_name": "Java",
   "language": "java",
   "name": "java"
  },
  "language_info": {
   "codemirror_mode": "java",
   "file_extension": ".jshell",
   "mimetype": "text/x-java-source",
   "name": "Java",
   "pygments_lexer": "java",
   "version": "17.0.3+7"
  },
  "orig_nbformat": 4,
  "vscode": {
   "interpreter": {
    "hash": "aee8b7b246df8f9039afb4144a1f6fd8d2ca17a180786b69acc140d282b71a49"
   }
  }
 },
 "nbformat": 4,
 "nbformat_minor": 2
}
