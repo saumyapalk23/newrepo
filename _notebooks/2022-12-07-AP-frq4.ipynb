{
 "cells": [
  {
   "cell_type": "markdown",
   "metadata": {},
   "source": [
    "# FRQ 4\n",
    "> Relationship of FRQ 4 to Project Based learning.\n",
    "- title: FRQ4 - 2D Arrays\n",
    "- toc: true\n",
    "- badges: false\n",
    "- image: /images/frqs.png\n",
    "- categories: [1.B]\n",
    "- tags: [api]\n",
    "- type: ap\n",
    "- week: 15"
   ]
  },
  {
   "cell_type": "markdown",
   "metadata": {},
   "source": [
    "## 2D Array Background\n",
    "> These are some key skills for 2D arrays.\n",
    "- Nested for loops, perhaps enhanced for loops.\n",
    "- Zero based counting.\n",
    "- Access of x and y coordinates.  Find properties at coordinates.\n",
    "    - sim.evaluateLight(0, 3); \n",
    "    - sim.evaluateLight(6, 0); \n",
    "    - sim.evaluateLight(4, 1); \n",
    "- Perform counts on values in columns or rows."
   ]
  },
  {
   "cell_type": "markdown",
   "metadata": {},
   "source": [
    "### Ideation\n",
    "> Sahill class of '23 discussion... For 2019 FRQ4, one idea I had was maybe turning each light into an object, since right now each element of the 2D array is simply a Boolean. Each light can have Boolean property for off/on, but also additional method to turn on the light (this would be the same as a setter, but it is more abstracted and cleaner in my opinion).  An interesting idea could be to have a luminosity property and a quality property. We can start off each light object with a certain luminosity, say 100, and then decrement this luminosity based on quality value. For example, if quality is 1, then the luminosity decreases by 1 every minute (if the light is on). We can then have an API endpoint that tracks the luminosity for each light. \n",
    "- [Ideation Light Board code](https://github.com/nighthawkcoders/spring_portfolio/tree/master/src/main/java/com/nighthawk/spring_portfolio/mvc/lightboard).\n",
    "\n",
    "\n",
    "> Code ideation does not always follow conversation.  As you can see, the light board started out looking more like a color palette.  This was because conversation(s) were ideas, but real purpose is yet to be found.\n",
    "\n",
    "![Color Board](images/lightboard.png)\n"
   ]
  },
  {
   "cell_type": "code",
   "execution_count": 1,
   "metadata": {
    "vscode": {
     "languageId": "java"
    }
   },
   "outputs": [
    {
     "name": "stdout",
     "output_type": "stream",
     "text": [
      "{\"red\": 117,\"green\": 65,\"blue\": 98,\"effect\": \"Fast Blink\"}\n"
     ]
    }
   ],
   "source": [
    "import java.util.HashMap;\n",
    "import java.util.Map;\n",
    "\n",
    "public class Light {\n",
    "    boolean on;\n",
    "    short red;\n",
    "    short green;\n",
    "    short blue;\n",
    "    short effect;\n",
    "\n",
    "    /*  ANSI effects\n",
    "        n\tName\tNote\n",
    "        0\tReset or normal\tAll attributes off\n",
    "        1\tBold or increased intensity\tAs with faint, the color change is a PC (SCO / CGA) invention.[38][better source needed]\n",
    "        2\tFaint, decreased intensity, or dim\tMay be implemented as a light font weight like bold.[39]\n",
    "        3\tItalic\tNot widely supported. Sometimes treated as inverse or blink.[38]\n",
    "        4\tUnderline\tStyle extensions exist for Kitty, VTE, mintty and iTerm2.[40][41]\n",
    "        5\tSlow blink\tSets blinking to less than 150 times per minute\n",
    "        6\tRapid blink\tMS-DOS ANSI.SYS, 150+ per minute; not widely supported\n",
    "        7\tReverse video or invert\tSwap foreground and background colors; inconsistent emulation[42]\n",
    "        8\tConceal or hide\tNot widely supported.\n",
    "        9\tCrossed-out, or strike\tCharacters legible but marked as if for deletion. Not supported in Terminal.app\n",
    "     */\n",
    "    private final Map<Short, String> EFFECT = new HashMap<>();\n",
    "    {\n",
    "        // Map<\"separator\", not_used>\n",
    "        EFFECT.put((short) 0, \"Normal\");\n",
    "        EFFECT.put((short) 1, \"Bold\");\n",
    "        EFFECT.put((short) 2, \"Faint\");\n",
    "        EFFECT.put((short) 3, \"Italic\");\n",
    "        EFFECT.put((short) 4, \"Underline\");\n",
    "        EFFECT.put((short) 5, \"Slow Blink\");\n",
    "        EFFECT.put((short) 6, \"Fast Blink\");\n",
    "        EFFECT.put((short) 7, \"Reverse\");\n",
    "        EFFECT.put((short) 8, \"Conceal\");\n",
    "        EFFECT.put((short) 9, \"Crossed_out\");\n",
    "    }\n",
    "\n",
    "    /* Assign random colors and effects */\n",
    "    public Light() {\n",
    "        int maxColor = 255;\n",
    "        int effect = 9;\n",
    "        this.red = (short) (Math.random()*(maxColor+1));\n",
    "        this.green = (short) (Math.random()*(maxColor+1));\n",
    "        this.blue = (short) (Math.random()*(maxColor+1));\n",
    "        this.effect = (short) (Math.random()*(effect+1));\n",
    "    }\n",
    "\n",
    "    public String getEffectTitle() {\n",
    "        return EFFECT.get(this.effect);\n",
    "    }\n",
    "\n",
    "    public String getRGB() {\n",
    "        return ( \"#\" +\n",
    "         String.format(\"%02X\", this.red) +\n",
    "         String.format(\"%02X\", this.green) + \n",
    "         String.format(\"%02X\", this.blue) \n",
    "         );\n",
    "    }\n",
    "\n",
    "    /* toString output as key/values */\n",
    "    public String toString() {\n",
    "        return( \"{\" + \n",
    "            \"\\\"red\\\": \" + red + \",\" +\n",
    "            \"\\\"green\\\": \" +  green + \",\" + \n",
    "            \"\\\"blue\\\": \" + blue + \",\" +\n",
    "            \"\\\"effect\\\": \" + \"\\\"\" + EFFECT.get(effect) + \"\\\"\" +\n",
    "            \"}\" );\n",
    "    }\n",
    "\n",
    "    public boolean isOn() {\n",
    "        return on;\n",
    "    }\n",
    "\n",
    "    public void setOn(boolean on) {\n",
    "        this.on = on;\n",
    "    }\n",
    "\n",
    "    public short getRed() {\n",
    "        return red;\n",
    "    }\n",
    "\n",
    "    public short getGreen() {\n",
    "        return green;\n",
    "    }\n",
    "\n",
    "    public short getBlue() {\n",
    "        return blue;\n",
    "    }\n",
    "\n",
    "    public short getEffect() {\n",
    "        return effect;\n",
    "    }\n",
    "\n",
    "    static public void main(String[] args) {\n",
    "        // create and display LightBoard\n",
    "        Light light = new Light();\n",
    "        System.out.println(light);  // use toString() method\n",
    "    }\n",
    "    \n",
    "\n",
    "}\n",
    "Light.main(null);"
   ]
  },
  {
   "cell_type": "code",
   "execution_count": 2,
   "metadata": {
    "vscode": {
     "languageId": "java"
    }
   },
   "outputs": [],
   "source": [
    "public class LightBoard {\n",
    "    private Light[][] lights;\n",
    "\n",
    "    /* Initialize LightBoard and Lights */\n",
    "    public LightBoard(int numRows, int numCols) {\n",
    "        this.lights = new Light[numRows][numCols];\n",
    "        // 2D array nested loops, used for initialization\n",
    "        for (int row = 0; row < numRows; row++) {\n",
    "            for (int col = 0; col < numCols; col++) {\n",
    "                lights[row][col] = new Light();  // each cell needs to be constructed\n",
    "            }\n",
    "        }\n",
    "    }\n",
    "\n",
    "    /* Output is intended for API key/values */\n",
    "    public String toString() { \n",
    "        String outString = \"[\";\n",
    "        // 2D array nested loops, used for reference\n",
    "        for (int row = 0; row < lights.length; row++) {\n",
    "            for (int col = 0; col < lights[row].length; col++) {\n",
    "                outString += \n",
    "                // data\n",
    "                \"{\" + \n",
    "                \"\\\"row\\\": \" + row + \",\" +\n",
    "                \"\\\"column\\\": \" + col + \",\" +\n",
    "                \"\\\"light\\\": \" + lights[row][col] +   // extract toString data\n",
    "                \"},\" ;\n",
    "            }\n",
    "        }\n",
    "        // remove last comma, newline, add square bracket, reset color\n",
    "        outString = outString.substring(0,outString.length() - 1) + \"]\";\n",
    "\t\treturn outString;\n",
    "    }\n",
    "\n",
    "    /* Output is intended for Terminal, effects added to output */\n",
    "    public String toTerminal() { \n",
    "        String outString = \"[\";\n",
    "        // 2D array nested loops, used for reference\n",
    "        for (int row = 0; row < lights.length; row++) {\n",
    "            for (int col = 0; col < lights[row].length; col++) {\n",
    "                outString += \n",
    "                // reset\n",
    "                \"\\033[m\" +\n",
    "                \n",
    "                // color\n",
    "                \"\\033[38;2;\" + \n",
    "                lights[row][col].getRed() + \";\" +  // set color using getters\n",
    "                lights[row][col].getGreen() + \";\" +\n",
    "                lights[row][col].getBlue() + \";\" +\n",
    "                lights[row][col].getEffect() + \"m\" +\n",
    "                // data, extract custom getters\n",
    "                \"{\" +\n",
    "                \"\\\"\" + \"RGB\\\": \" + \"\\\"\" + lights[row][col].getRGB() + \"\\\"\" +\n",
    "                \",\" +\n",
    "                \"\\\"\" + \"Effect\\\": \" + \"\\\"\" + lights[row][col].getEffectTitle() + \"\\\"\" +\n",
    "                \"},\" +\n",
    "                // newline\n",
    "                \"\\n\" ;\n",
    "            }\n",
    "        }\n",
    "        // remove last comma, newline, add square bracket, reset color\n",
    "        outString = outString.substring(0,outString.length() - 2) + \"\\033[m\" + \"]\";\n",
    "\t\treturn outString;\n",
    "    }\n",
    "\n",
    "    /* Output is intended for Terminal, draws color palette */\n",
    "    public String toColorPalette() {\n",
    "        // block sizes\n",
    "        final int ROWS = 5;\n",
    "        final int COLS = 10;\n",
    "\n",
    "        // Build large string for entire color palette\n",
    "        String outString = \"\";\n",
    "        // find each row\n",
    "        for (int row = 0; row < lights.length; row++) {\n",
    "            // repeat each row for block size\n",
    "            for (int i = 0; i < ROWS; i++) {\n",
    "                // find each column\n",
    "                for (int col = 0; col < lights[row].length; col++) {\n",
    "                    // repeat each column for block size\n",
    "                    for (int j = 0; j < COLS; j++) {\n",
    "                        // print single character, except at midpoint print color code\n",
    "                        String c = (i == (int) (ROWS / 2) && j == (int) (COLS / 2) ) \n",
    "                            ? lights[row][col].getRGB()\n",
    "                            : (j == (int) (COLS / 2))  // nested ternary\n",
    "                            ? \" \".repeat(lights[row][col].getRGB().length())\n",
    "                            : \" \";\n",
    "\n",
    "                        outString += \n",
    "                        // reset\n",
    "                        \"\\033[m\" +\n",
    "                        \n",
    "                        // color\n",
    "                        \"\\033[38;2;\" + \n",
    "                        lights[row][col].getRed() + \";\" +\n",
    "                        lights[row][col].getGreen() + \";\" +\n",
    "                        lights[row][col].getBlue() + \";\" +\n",
    "                        \"7m\" +\n",
    "\n",
    "                        // color code or blank character\n",
    "                        c +\n",
    "\n",
    "                        // reset\n",
    "                        \"\\033[m\";\n",
    "                    }\n",
    "                }\n",
    "                outString += \"\\n\";\n",
    "            }\n",
    "        }\n",
    "        // remove last comma, newline, add square bracket, reset color\n",
    "        outString += \"\\033[m\";\n",
    "\t\treturn outString;\n",
    "    }\n",
    "    \n",
    "    static public void main(String[] args) {\n",
    "        // create and display LightBoard\n",
    "        LightBoard lightBoard = new LightBoard(5, 5);\n",
    "        System.out.println(lightBoard);  // use toString() method\n",
    "        System.out.println(lightBoard.toTerminal());\n",
    "        System.out.println(lightBoard.toColorPalette());\n",
    "    }\n",
    "}\n"
   ]
  },
  {
   "cell_type": "markdown",
   "metadata": {},
   "source": [
    "### Form toString() like JSON"
   ]
  },
  {
   "cell_type": "code",
   "execution_count": 3,
   "metadata": {
    "vscode": {
     "languageId": "java"
    }
   },
   "outputs": [
    {
     "name": "stdout",
     "output_type": "stream",
     "text": [
      "[{\"row\": 0,\"column\": 0,\"light\": {\"red\": 200,\"green\": 253,\"blue\": 43,\"effect\": \"Crossed_out\"}},{\"row\": 0,\"column\": 1,\"light\": {\"red\": 116,\"green\": 244,\"blue\": 189,\"effect\": \"Italic\"}},{\"row\": 0,\"column\": 2,\"light\": {\"red\": 99,\"green\": 216,\"blue\": 210,\"effect\": \"Reverse\"}},{\"row\": 0,\"column\": 3,\"light\": {\"red\": 154,\"green\": 168,\"blue\": 36,\"effect\": \"Italic\"}},{\"row\": 0,\"column\": 4,\"light\": {\"red\": 210,\"green\": 250,\"blue\": 191,\"effect\": \"Slow Blink\"}},{\"row\": 1,\"column\": 0,\"light\": {\"red\": 40,\"green\": 63,\"blue\": 155,\"effect\": \"Slow Blink\"}},{\"row\": 1,\"column\": 1,\"light\": {\"red\": 176,\"green\": 80,\"blue\": 138,\"effect\": \"Fast Blink\"}},{\"row\": 1,\"column\": 2,\"light\": {\"red\": 14,\"green\": 241,\"blue\": 234,\"effect\": \"Faint\"}},{\"row\": 1,\"column\": 3,\"light\": {\"red\": 240,\"green\": 111,\"blue\": 72,\"effect\": \"Crossed_out\"}},{\"row\": 1,\"column\": 4,\"light\": {\"red\": 71,\"green\": 2,\"blue\": 93,\"effect\": \"Underline\"}},{\"row\": 2,\"column\": 0,\"light\": {\"red\": 177,\"green\": 122,\"blue\": 71,\"effect\": \"Reverse\"}},{\"row\": 2,\"column\": 1,\"light\": {\"red\": 109,\"green\": 149,\"blue\": 252,\"effect\": \"Reverse\"}},{\"row\": 2,\"column\": 2,\"light\": {\"red\": 121,\"green\": 125,\"blue\": 78,\"effect\": \"Normal\"}},{\"row\": 2,\"column\": 3,\"light\": {\"red\": 57,\"green\": 29,\"blue\": 155,\"effect\": \"Slow Blink\"}},{\"row\": 2,\"column\": 4,\"light\": {\"red\": 54,\"green\": 104,\"blue\": 135,\"effect\": \"Italic\"}},{\"row\": 3,\"column\": 0,\"light\": {\"red\": 231,\"green\": 54,\"blue\": 182,\"effect\": \"Reverse\"}},{\"row\": 3,\"column\": 1,\"light\": {\"red\": 157,\"green\": 6,\"blue\": 130,\"effect\": \"Crossed_out\"}},{\"row\": 3,\"column\": 2,\"light\": {\"red\": 200,\"green\": 226,\"blue\": 15,\"effect\": \"Crossed_out\"}},{\"row\": 3,\"column\": 3,\"light\": {\"red\": 202,\"green\": 146,\"blue\": 4,\"effect\": \"Crossed_out\"}},{\"row\": 3,\"column\": 4,\"light\": {\"red\": 119,\"green\": 121,\"blue\": 96,\"effect\": \"Crossed_out\"}},{\"row\": 4,\"column\": 0,\"light\": {\"red\": 55,\"green\": 224,\"blue\": 132,\"effect\": \"Slow Blink\"}},{\"row\": 4,\"column\": 1,\"light\": {\"red\": 108,\"green\": 200,\"blue\": 179,\"effect\": \"Reverse\"}},{\"row\": 4,\"column\": 2,\"light\": {\"red\": 111,\"green\": 43,\"blue\": 141,\"effect\": \"Underline\"}},{\"row\": 4,\"column\": 3,\"light\": {\"red\": 242,\"green\": 47,\"blue\": 40,\"effect\": \"Underline\"}},{\"row\": 4,\"column\": 4,\"light\": {\"red\": 19,\"green\": 251,\"blue\": 108,\"effect\": \"Conceal\"}}]\n"
     ]
    }
   ],
   "source": [
    "LightBoard lightBoard = new LightBoard(5, 5);\n",
    "System.out.println(lightBoard);  // use toString() method"
   ]
  },
  {
   "cell_type": "markdown",
   "metadata": {},
   "source": [
    "### Color Codes and Effect"
   ]
  },
  {
   "cell_type": "code",
   "execution_count": 4,
   "metadata": {
    "vscode": {
     "languageId": "java"
    }
   },
   "outputs": [
    {
     "name": "stdout",
     "output_type": "stream",
     "text": [
      "[\u001b[m\u001b[38;2;181;182;58;4m{\"RGB\": \"#B5B63A\",\"Effect\": \"Underline\"},\n",
      "\u001b[m\u001b[38;2;15;192;220;6m{\"RGB\": \"#0FC0DC\",\"Effect\": \"Fast Blink\"},\n",
      "\u001b[m\u001b[38;2;104;102;200;5m{\"RGB\": \"#6866C8\",\"Effect\": \"Slow Blink\"},\n",
      "\u001b[m\u001b[38;2;38;11;151;0m{\"RGB\": \"#260B97\",\"Effect\": \"Normal\"},\n",
      "\u001b[m\u001b[38;2;69;109;121;1m{\"RGB\": \"#456D79\",\"Effect\": \"Bold\"},\n",
      "\u001b[m\u001b[38;2;32;139;253;4m{\"RGB\": \"#208BFD\",\"Effect\": \"Underline\"},\n",
      "\u001b[m\u001b[38;2;89;205;70;9m{\"RGB\": \"#59CD46\",\"Effect\": \"Crossed_out\"},\n",
      "\u001b[m\u001b[38;2;68;45;61;2m{\"RGB\": \"#442D3D\",\"Effect\": \"Faint\"},\n",
      "\u001b[m\u001b[38;2;228;149;45;1m{\"RGB\": \"#E4952D\",\"Effect\": \"Bold\"},\n",
      "\u001b[m\u001b[38;2;254;9;175;9m{\"RGB\": \"#FE09AF\",\"Effect\": \"Crossed_out\"},\n",
      "\u001b[m\u001b[38;2;67;255;102;2m{\"RGB\": \"#43FF66\",\"Effect\": \"Faint\"},\n",
      "\u001b[m\u001b[38;2;190;5;71;5m{\"RGB\": \"#BE0547\",\"Effect\": \"Slow Blink\"},\n",
      "\u001b[m\u001b[38;2;35;219;167;4m{\"RGB\": \"#23DBA7\",\"Effect\": \"Underline\"},\n",
      "\u001b[m\u001b[38;2;126;69;83;8m{\"RGB\": \"#7E4553\",\"Effect\": \"Conceal\"},\n",
      "\u001b[m\u001b[38;2;0;36;53;0m{\"RGB\": \"#002435\",\"Effect\": \"Normal\"},\n",
      "\u001b[m\u001b[38;2;128;223;238;7m{\"RGB\": \"#80DFEE\",\"Effect\": \"Reverse\"},\n",
      "\u001b[m\u001b[38;2;26;182;227;5m{\"RGB\": \"#1AB6E3\",\"Effect\": \"Slow Blink\"},\n",
      "\u001b[m\u001b[38;2;43;104;217;3m{\"RGB\": \"#2B68D9\",\"Effect\": \"Italic\"},\n",
      "\u001b[m\u001b[38;2;125;113;63;4m{\"RGB\": \"#7D713F\",\"Effect\": \"Underline\"},\n",
      "\u001b[m\u001b[38;2;29;74;158;7m{\"RGB\": \"#1D4A9E\",\"Effect\": \"Reverse\"},\n",
      "\u001b[m\u001b[38;2;182;71;125;5m{\"RGB\": \"#B6477D\",\"Effect\": \"Slow Blink\"},\n",
      "\u001b[m\u001b[38;2;201;4;55;4m{\"RGB\": \"#C90437\",\"Effect\": \"Underline\"},\n",
      "\u001b[m\u001b[38;2;71;5;236;9m{\"RGB\": \"#4705EC\",\"Effect\": \"Crossed_out\"},\n",
      "\u001b[m\u001b[38;2;86;178;156;1m{\"RGB\": \"#56B29C\",\"Effect\": \"Bold\"},\n",
      "\u001b[m\u001b[38;2;29;209;13;4m{\"RGB\": \"#1DD10D\",\"Effect\": \"Underline\"}\u001b[m]\n"
     ]
    }
   ],
   "source": [
    "LightBoard lightBoard = new LightBoard(5, 5);\n",
    "System.out.println(lightBoard.toTerminal());"
   ]
  },
  {
   "cell_type": "markdown",
   "metadata": {},
   "source": [
    "### Color Code Palette"
   ]
  },
  {
   "cell_type": "code",
   "execution_count": 5,
   "metadata": {
    "vscode": {
     "languageId": "java"
    }
   },
   "outputs": [
    {
     "name": "stdout",
     "output_type": "stream",
     "text": [
      "\u001b[m\u001b[38;2;123;152;227;7m \u001b[m\u001b[m\u001b[38;2;123;152;227;7m \u001b[m\u001b[m\u001b[38;2;123;152;227;7m \u001b[m\u001b[m\u001b[38;2;123;152;227;7m \u001b[m\u001b[m\u001b[38;2;123;152;227;7m \u001b[m\u001b[m\u001b[38;2;123;152;227;7m       \u001b[m\u001b[m\u001b[38;2;123;152;227;7m \u001b[m\u001b[m\u001b[38;2;123;152;227;7m \u001b[m\u001b[m\u001b[38;2;123;152;227;7m \u001b[m\u001b[m\u001b[38;2;123;152;227;7m \u001b[m\u001b[m\u001b[38;2;102;165;126;7m \u001b[m\u001b[m\u001b[38;2;102;165;126;7m \u001b[m\u001b[m\u001b[38;2;102;165;126;7m \u001b[m\u001b[m\u001b[38;2;102;165;126;7m \u001b[m\u001b[m\u001b[38;2;102;165;126;7m \u001b[m\u001b[m\u001b[38;2;102;165;126;7m       \u001b[m\u001b[m\u001b[38;2;102;165;126;7m \u001b[m\u001b[m\u001b[38;2;102;165;126;7m \u001b[m\u001b[m\u001b[38;2;102;165;126;7m \u001b[m\u001b[m\u001b[38;2;102;165;126;7m \u001b[m\u001b[m\u001b[38;2;146;114;242;7m \u001b[m\u001b[m\u001b[38;2;146;114;242;7m \u001b[m\u001b[m\u001b[38;2;146;114;242;7m \u001b[m\u001b[m\u001b[38;2;146;114;242;7m \u001b[m\u001b[m\u001b[38;2;146;114;242;7m \u001b[m\u001b[m\u001b[38;2;146;114;242;7m       \u001b[m\u001b[m\u001b[38;2;146;114;242;7m \u001b[m\u001b[m\u001b[38;2;146;114;242;7m \u001b[m\u001b[m\u001b[38;2;146;114;242;7m \u001b[m\u001b[m\u001b[38;2;146;114;242;7m \u001b[m\u001b[m\u001b[38;2;173;85;108;7m \u001b[m\u001b[m\u001b[38;2;173;85;108;7m \u001b[m\u001b[m\u001b[38;2;173;85;108;7m \u001b[m\u001b[m\u001b[38;2;173;85;108;7m \u001b[m\u001b[m\u001b[38;2;173;85;108;7m \u001b[m\u001b[m\u001b[38;2;173;85;108;7m       \u001b[m\u001b[m\u001b[38;2;173;85;108;7m \u001b[m\u001b[m\u001b[38;2;173;85;108;7m \u001b[m\u001b[m\u001b[38;2;173;85;108;7m \u001b[m\u001b[m\u001b[38;2;173;85;108;7m \u001b[m\u001b[m\u001b[38;2;43;214;207;7m \u001b[m\u001b[m\u001b[38;2;43;214;207;7m \u001b[m\u001b[m\u001b[38;2;43;214;207;7m \u001b[m\u001b[m\u001b[38;2;43;214;207;7m \u001b[m\u001b[m\u001b[38;2;43;214;207;7m \u001b[m\u001b[m\u001b[38;2;43;214;207;7m       \u001b[m\u001b[m\u001b[38;2;43;214;207;7m \u001b[m\u001b[m\u001b[38;2;43;214;207;7m \u001b[m\u001b[m\u001b[38;2;43;214;207;7m \u001b[m\u001b[m\u001b[38;2;43;214;207;7m \u001b[m\n",
      "\u001b[m\u001b[38;2;123;152;227;7m \u001b[m\u001b[m\u001b[38;2;123;152;227;7m \u001b[m\u001b[m\u001b[38;2;123;152;227;7m \u001b[m\u001b[m\u001b[38;2;123;152;227;7m \u001b[m\u001b[m\u001b[38;2;123;152;227;7m \u001b[m\u001b[m\u001b[38;2;123;152;227;7m       \u001b[m\u001b[m\u001b[38;2;123;152;227;7m \u001b[m\u001b[m\u001b[38;2;123;152;227;7m \u001b[m\u001b[m\u001b[38;2;123;152;227;7m \u001b[m\u001b[m\u001b[38;2;123;152;227;7m \u001b[m\u001b[m\u001b[38;2;102;165;126;7m \u001b[m\u001b[m\u001b[38;2;102;165;126;7m \u001b[m\u001b[m\u001b[38;2;102;165;126;7m \u001b[m\u001b[m\u001b[38;2;102;165;126;7m \u001b[m\u001b[m\u001b[38;2;102;165;126;7m \u001b[m\u001b[m\u001b[38;2;102;165;126;7m       \u001b[m\u001b[m\u001b[38;2;102;165;126;7m \u001b[m\u001b[m\u001b[38;2;102;165;126;7m \u001b[m\u001b[m\u001b[38;2;102;165;126;7m \u001b[m\u001b[m\u001b[38;2;102;165;126;7m \u001b[m\u001b[m\u001b[38;2;146;114;242;7m \u001b[m\u001b[m\u001b[38;2;146;114;242;7m \u001b[m\u001b[m\u001b[38;2;146;114;242;7m \u001b[m\u001b[m\u001b[38;2;146;114;242;7m \u001b[m\u001b[m\u001b[38;2;146;114;242;7m \u001b[m\u001b[m\u001b[38;2;146;114;242;7m       \u001b[m\u001b[m\u001b[38;2;146;114;242;7m \u001b[m\u001b[m\u001b[38;2;146;114;242;7m \u001b[m\u001b[m\u001b[38;2;146;114;242;7m \u001b[m\u001b[m\u001b[38;2;146;114;242;7m \u001b[m\u001b[m\u001b[38;2;173;85;108;7m \u001b[m\u001b[m\u001b[38;2;173;85;108;7m \u001b[m\u001b[m\u001b[38;2;173;85;108;7m \u001b[m\u001b[m\u001b[38;2;173;85;108;7m \u001b[m\u001b[m\u001b[38;2;173;85;108;7m \u001b[m\u001b[m\u001b[38;2;173;85;108;7m       \u001b[m\u001b[m\u001b[38;2;173;85;108;7m \u001b[m\u001b[m\u001b[38;2;173;85;108;7m \u001b[m\u001b[m\u001b[38;2;173;85;108;7m \u001b[m\u001b[m\u001b[38;2;173;85;108;7m \u001b[m\u001b[m\u001b[38;2;43;214;207;7m \u001b[m\u001b[m\u001b[38;2;43;214;207;7m \u001b[m\u001b[m\u001b[38;2;43;214;207;7m \u001b[m\u001b[m\u001b[38;2;43;214;207;7m \u001b[m\u001b[m\u001b[38;2;43;214;207;7m \u001b[m\u001b[m\u001b[38;2;43;214;207;7m       \u001b[m\u001b[m\u001b[38;2;43;214;207;7m \u001b[m\u001b[m\u001b[38;2;43;214;207;7m \u001b[m\u001b[m\u001b[38;2;43;214;207;7m \u001b[m\u001b[m\u001b[38;2;43;214;207;7m \u001b[m\n",
      "\u001b[m\u001b[38;2;123;152;227;7m \u001b[m\u001b[m\u001b[38;2;123;152;227;7m \u001b[m\u001b[m\u001b[38;2;123;152;227;7m \u001b[m\u001b[m\u001b[38;2;123;152;227;7m \u001b[m\u001b[m\u001b[38;2;123;152;227;7m \u001b[m\u001b[m\u001b[38;2;123;152;227;7m#7B98E3\u001b[m\u001b[m\u001b[38;2;123;152;227;7m \u001b[m\u001b[m\u001b[38;2;123;152;227;7m \u001b[m\u001b[m\u001b[38;2;123;152;227;7m \u001b[m\u001b[m\u001b[38;2;123;152;227;7m \u001b[m\u001b[m\u001b[38;2;102;165;126;7m \u001b[m\u001b[m\u001b[38;2;102;165;126;7m \u001b[m\u001b[m\u001b[38;2;102;165;126;7m \u001b[m\u001b[m\u001b[38;2;102;165;126;7m \u001b[m\u001b[m\u001b[38;2;102;165;126;7m \u001b[m\u001b[m\u001b[38;2;102;165;126;7m#66A57E\u001b[m\u001b[m\u001b[38;2;102;165;126;7m \u001b[m\u001b[m\u001b[38;2;102;165;126;7m \u001b[m\u001b[m\u001b[38;2;102;165;126;7m \u001b[m\u001b[m\u001b[38;2;102;165;126;7m \u001b[m\u001b[m\u001b[38;2;146;114;242;7m \u001b[m\u001b[m\u001b[38;2;146;114;242;7m \u001b[m\u001b[m\u001b[38;2;146;114;242;7m \u001b[m\u001b[m\u001b[38;2;146;114;242;7m \u001b[m\u001b[m\u001b[38;2;146;114;242;7m \u001b[m\u001b[m\u001b[38;2;146;114;242;7m#9272F2\u001b[m\u001b[m\u001b[38;2;146;114;242;7m \u001b[m\u001b[m\u001b[38;2;146;114;242;7m \u001b[m\u001b[m\u001b[38;2;146;114;242;7m \u001b[m\u001b[m\u001b[38;2;146;114;242;7m \u001b[m\u001b[m\u001b[38;2;173;85;108;7m \u001b[m\u001b[m\u001b[38;2;173;85;108;7m \u001b[m\u001b[m\u001b[38;2;173;85;108;7m \u001b[m\u001b[m\u001b[38;2;173;85;108;7m \u001b[m\u001b[m\u001b[38;2;173;85;108;7m \u001b[m\u001b[m\u001b[38;2;173;85;108;7m#AD556C\u001b[m\u001b[m\u001b[38;2;173;85;108;7m \u001b[m\u001b[m\u001b[38;2;173;85;108;7m \u001b[m\u001b[m\u001b[38;2;173;85;108;7m \u001b[m\u001b[m\u001b[38;2;173;85;108;7m \u001b[m\u001b[m\u001b[38;2;43;214;207;7m \u001b[m\u001b[m\u001b[38;2;43;214;207;7m \u001b[m\u001b[m\u001b[38;2;43;214;207;7m \u001b[m\u001b[m\u001b[38;2;43;214;207;7m \u001b[m\u001b[m\u001b[38;2;43;214;207;7m \u001b[m\u001b[m\u001b[38;2;43;214;207;7m#2BD6CF\u001b[m\u001b[m\u001b[38;2;43;214;207;7m \u001b[m\u001b[m\u001b[38;2;43;214;207;7m \u001b[m\u001b[m\u001b[38;2;43;214;207;7m \u001b[m\u001b[m\u001b[38;2;43;214;207;7m \u001b[m\n",
      "\u001b[m\u001b[38;2;123;152;227;7m \u001b[m\u001b[m\u001b[38;2;123;152;227;7m \u001b[m\u001b[m\u001b[38;2;123;152;227;7m \u001b[m\u001b[m\u001b[38;2;123;152;227;7m \u001b[m\u001b[m\u001b[38;2;123;152;227;7m \u001b[m\u001b[m\u001b[38;2;123;152;227;7m       \u001b[m\u001b[m\u001b[38;2;123;152;227;7m \u001b[m\u001b[m\u001b[38;2;123;152;227;7m \u001b[m\u001b[m\u001b[38;2;123;152;227;7m \u001b[m\u001b[m\u001b[38;2;123;152;227;7m \u001b[m\u001b[m\u001b[38;2;102;165;126;7m \u001b[m\u001b[m\u001b[38;2;102;165;126;7m \u001b[m\u001b[m\u001b[38;2;102;165;126;7m \u001b[m\u001b[m\u001b[38;2;102;165;126;7m \u001b[m\u001b[m\u001b[38;2;102;165;126;7m \u001b[m\u001b[m\u001b[38;2;102;165;126;7m       \u001b[m\u001b[m\u001b[38;2;102;165;126;7m \u001b[m\u001b[m\u001b[38;2;102;165;126;7m \u001b[m\u001b[m\u001b[38;2;102;165;126;7m \u001b[m\u001b[m\u001b[38;2;102;165;126;7m \u001b[m\u001b[m\u001b[38;2;146;114;242;7m \u001b[m\u001b[m\u001b[38;2;146;114;242;7m \u001b[m\u001b[m\u001b[38;2;146;114;242;7m \u001b[m\u001b[m\u001b[38;2;146;114;242;7m \u001b[m\u001b[m\u001b[38;2;146;114;242;7m \u001b[m\u001b[m\u001b[38;2;146;114;242;7m       \u001b[m\u001b[m\u001b[38;2;146;114;242;7m \u001b[m\u001b[m\u001b[38;2;146;114;242;7m \u001b[m\u001b[m\u001b[38;2;146;114;242;7m \u001b[m\u001b[m\u001b[38;2;146;114;242;7m \u001b[m\u001b[m\u001b[38;2;173;85;108;7m \u001b[m\u001b[m\u001b[38;2;173;85;108;7m \u001b[m\u001b[m\u001b[38;2;173;85;108;7m \u001b[m\u001b[m\u001b[38;2;173;85;108;7m \u001b[m\u001b[m\u001b[38;2;173;85;108;7m \u001b[m\u001b[m\u001b[38;2;173;85;108;7m       \u001b[m\u001b[m\u001b[38;2;173;85;108;7m \u001b[m\u001b[m\u001b[38;2;173;85;108;7m \u001b[m\u001b[m\u001b[38;2;173;85;108;7m \u001b[m\u001b[m\u001b[38;2;173;85;108;7m \u001b[m\u001b[m\u001b[38;2;43;214;207;7m \u001b[m\u001b[m\u001b[38;2;43;214;207;7m \u001b[m\u001b[m\u001b[38;2;43;214;207;7m \u001b[m\u001b[m\u001b[38;2;43;214;207;7m \u001b[m\u001b[m\u001b[38;2;43;214;207;7m \u001b[m\u001b[m\u001b[38;2;43;214;207;7m       \u001b[m\u001b[m\u001b[38;2;43;214;207;7m \u001b[m\u001b[m\u001b[38;2;43;214;207;7m \u001b[m\u001b[m\u001b[38;2;43;214;207;7m \u001b[m\u001b[m\u001b[38;2;43;214;207;7m \u001b[m\n",
      "\u001b[m\u001b[38;2;123;152;227;7m \u001b[m\u001b[m\u001b[38;2;123;152;227;7m \u001b[m\u001b[m\u001b[38;2;123;152;227;7m \u001b[m\u001b[m\u001b[38;2;123;152;227;7m \u001b[m\u001b[m\u001b[38;2;123;152;227;7m \u001b[m\u001b[m\u001b[38;2;123;152;227;7m       \u001b[m\u001b[m\u001b[38;2;123;152;227;7m \u001b[m\u001b[m\u001b[38;2;123;152;227;7m \u001b[m\u001b[m\u001b[38;2;123;152;227;7m \u001b[m\u001b[m\u001b[38;2;123;152;227;7m \u001b[m\u001b[m\u001b[38;2;102;165;126;7m \u001b[m\u001b[m\u001b[38;2;102;165;126;7m \u001b[m\u001b[m\u001b[38;2;102;165;126;7m \u001b[m\u001b[m\u001b[38;2;102;165;126;7m \u001b[m\u001b[m\u001b[38;2;102;165;126;7m \u001b[m\u001b[m\u001b[38;2;102;165;126;7m       \u001b[m\u001b[m\u001b[38;2;102;165;126;7m \u001b[m\u001b[m\u001b[38;2;102;165;126;7m \u001b[m\u001b[m\u001b[38;2;102;165;126;7m \u001b[m\u001b[m\u001b[38;2;102;165;126;7m \u001b[m\u001b[m\u001b[38;2;146;114;242;7m \u001b[m\u001b[m\u001b[38;2;146;114;242;7m \u001b[m\u001b[m\u001b[38;2;146;114;242;7m \u001b[m\u001b[m\u001b[38;2;146;114;242;7m \u001b[m\u001b[m\u001b[38;2;146;114;242;7m \u001b[m\u001b[m\u001b[38;2;146;114;242;7m       \u001b[m\u001b[m\u001b[38;2;146;114;242;7m \u001b[m\u001b[m\u001b[38;2;146;114;242;7m \u001b[m\u001b[m\u001b[38;2;146;114;242;7m \u001b[m\u001b[m\u001b[38;2;146;114;242;7m \u001b[m\u001b[m\u001b[38;2;173;85;108;7m \u001b[m\u001b[m\u001b[38;2;173;85;108;7m \u001b[m\u001b[m\u001b[38;2;173;85;108;7m \u001b[m\u001b[m\u001b[38;2;173;85;108;7m \u001b[m\u001b[m\u001b[38;2;173;85;108;7m \u001b[m\u001b[m\u001b[38;2;173;85;108;7m       \u001b[m\u001b[m\u001b[38;2;173;85;108;7m \u001b[m\u001b[m\u001b[38;2;173;85;108;7m \u001b[m\u001b[m\u001b[38;2;173;85;108;7m \u001b[m\u001b[m\u001b[38;2;173;85;108;7m \u001b[m\u001b[m\u001b[38;2;43;214;207;7m \u001b[m\u001b[m\u001b[38;2;43;214;207;7m \u001b[m\u001b[m\u001b[38;2;43;214;207;7m \u001b[m\u001b[m\u001b[38;2;43;214;207;7m \u001b[m\u001b[m\u001b[38;2;43;214;207;7m \u001b[m\u001b[m\u001b[38;2;43;214;207;7m       \u001b[m\u001b[m\u001b[38;2;43;214;207;7m \u001b[m\u001b[m\u001b[38;2;43;214;207;7m \u001b[m\u001b[m\u001b[38;2;43;214;207;7m \u001b[m\u001b[m\u001b[38;2;43;214;207;7m \u001b[m\n",
      "\u001b[m\u001b[38;2;20;210;50;7m \u001b[m\u001b[m\u001b[38;2;20;210;50;7m \u001b[m\u001b[m\u001b[38;2;20;210;50;7m \u001b[m\u001b[m\u001b[38;2;20;210;50;7m \u001b[m\u001b[m\u001b[38;2;20;210;50;7m \u001b[m\u001b[m\u001b[38;2;20;210;50;7m       \u001b[m\u001b[m\u001b[38;2;20;210;50;7m \u001b[m\u001b[m\u001b[38;2;20;210;50;7m \u001b[m\u001b[m\u001b[38;2;20;210;50;7m \u001b[m\u001b[m\u001b[38;2;20;210;50;7m \u001b[m\u001b[m\u001b[38;2;202;232;35;7m \u001b[m\u001b[m\u001b[38;2;202;232;35;7m \u001b[m\u001b[m\u001b[38;2;202;232;35;7m \u001b[m\u001b[m\u001b[38;2;202;232;35;7m \u001b[m\u001b[m\u001b[38;2;202;232;35;7m \u001b[m\u001b[m\u001b[38;2;202;232;35;7m       \u001b[m\u001b[m\u001b[38;2;202;232;35;7m \u001b[m\u001b[m\u001b[38;2;202;232;35;7m \u001b[m\u001b[m\u001b[38;2;202;232;35;7m \u001b[m\u001b[m\u001b[38;2;202;232;35;7m \u001b[m\u001b[m\u001b[38;2;6;197;86;7m \u001b[m\u001b[m\u001b[38;2;6;197;86;7m \u001b[m\u001b[m\u001b[38;2;6;197;86;7m \u001b[m\u001b[m\u001b[38;2;6;197;86;7m \u001b[m\u001b[m\u001b[38;2;6;197;86;7m \u001b[m\u001b[m\u001b[38;2;6;197;86;7m       \u001b[m\u001b[m\u001b[38;2;6;197;86;7m \u001b[m\u001b[m\u001b[38;2;6;197;86;7m \u001b[m\u001b[m\u001b[38;2;6;197;86;7m \u001b[m\u001b[m\u001b[38;2;6;197;86;7m \u001b[m\u001b[m\u001b[38;2;160;35;114;7m \u001b[m\u001b[m\u001b[38;2;160;35;114;7m \u001b[m\u001b[m\u001b[38;2;160;35;114;7m \u001b[m\u001b[m\u001b[38;2;160;35;114;7m \u001b[m\u001b[m\u001b[38;2;160;35;114;7m \u001b[m\u001b[m\u001b[38;2;160;35;114;7m       \u001b[m\u001b[m\u001b[38;2;160;35;114;7m \u001b[m\u001b[m\u001b[38;2;160;35;114;7m \u001b[m\u001b[m\u001b[38;2;160;35;114;7m \u001b[m\u001b[m\u001b[38;2;160;35;114;7m \u001b[m\u001b[m\u001b[38;2;199;186;15;7m \u001b[m\u001b[m\u001b[38;2;199;186;15;7m \u001b[m\u001b[m\u001b[38;2;199;186;15;7m \u001b[m\u001b[m\u001b[38;2;199;186;15;7m \u001b[m\u001b[m\u001b[38;2;199;186;15;7m \u001b[m\u001b[m\u001b[38;2;199;186;15;7m       \u001b[m\u001b[m\u001b[38;2;199;186;15;7m \u001b[m\u001b[m\u001b[38;2;199;186;15;7m \u001b[m\u001b[m\u001b[38;2;199;186;15;7m \u001b[m\u001b[m\u001b[38;2;199;186;15;7m \u001b[m\n",
      "\u001b[m\u001b[38;2;20;210;50;7m \u001b[m\u001b[m\u001b[38;2;20;210;50;7m \u001b[m\u001b[m\u001b[38;2;20;210;50;7m \u001b[m\u001b[m\u001b[38;2;20;210;50;7m \u001b[m\u001b[m\u001b[38;2;20;210;50;7m \u001b[m\u001b[m\u001b[38;2;20;210;50;7m       \u001b[m\u001b[m\u001b[38;2;20;210;50;7m \u001b[m\u001b[m\u001b[38;2;20;210;50;7m \u001b[m\u001b[m\u001b[38;2;20;210;50;7m \u001b[m\u001b[m\u001b[38;2;20;210;50;7m \u001b[m\u001b[m\u001b[38;2;202;232;35;7m \u001b[m\u001b[m\u001b[38;2;202;232;35;7m \u001b[m\u001b[m\u001b[38;2;202;232;35;7m \u001b[m\u001b[m\u001b[38;2;202;232;35;7m \u001b[m\u001b[m\u001b[38;2;202;232;35;7m \u001b[m\u001b[m\u001b[38;2;202;232;35;7m       \u001b[m\u001b[m\u001b[38;2;202;232;35;7m \u001b[m\u001b[m\u001b[38;2;202;232;35;7m \u001b[m\u001b[m\u001b[38;2;202;232;35;7m \u001b[m\u001b[m\u001b[38;2;202;232;35;7m \u001b[m\u001b[m\u001b[38;2;6;197;86;7m \u001b[m\u001b[m\u001b[38;2;6;197;86;7m \u001b[m\u001b[m\u001b[38;2;6;197;86;7m \u001b[m\u001b[m\u001b[38;2;6;197;86;7m \u001b[m\u001b[m\u001b[38;2;6;197;86;7m \u001b[m\u001b[m\u001b[38;2;6;197;86;7m       \u001b[m\u001b[m\u001b[38;2;6;197;86;7m \u001b[m\u001b[m\u001b[38;2;6;197;86;7m \u001b[m\u001b[m\u001b[38;2;6;197;86;7m \u001b[m\u001b[m\u001b[38;2;6;197;86;7m \u001b[m\u001b[m\u001b[38;2;160;35;114;7m \u001b[m\u001b[m\u001b[38;2;160;35;114;7m \u001b[m\u001b[m\u001b[38;2;160;35;114;7m \u001b[m\u001b[m\u001b[38;2;160;35;114;7m \u001b[m\u001b[m\u001b[38;2;160;35;114;7m \u001b[m\u001b[m\u001b[38;2;160;35;114;7m       \u001b[m\u001b[m\u001b[38;2;160;35;114;7m \u001b[m\u001b[m\u001b[38;2;160;35;114;7m \u001b[m\u001b[m\u001b[38;2;160;35;114;7m \u001b[m\u001b[m\u001b[38;2;160;35;114;7m \u001b[m\u001b[m\u001b[38;2;199;186;15;7m \u001b[m\u001b[m\u001b[38;2;199;186;15;7m \u001b[m\u001b[m\u001b[38;2;199;186;15;7m \u001b[m\u001b[m\u001b[38;2;199;186;15;7m \u001b[m\u001b[m\u001b[38;2;199;186;15;7m \u001b[m\u001b[m\u001b[38;2;199;186;15;7m       \u001b[m\u001b[m\u001b[38;2;199;186;15;7m \u001b[m\u001b[m\u001b[38;2;199;186;15;7m \u001b[m\u001b[m\u001b[38;2;199;186;15;7m \u001b[m\u001b[m\u001b[38;2;199;186;15;7m \u001b[m\n",
      "\u001b[m\u001b[38;2;20;210;50;7m \u001b[m\u001b[m\u001b[38;2;20;210;50;7m \u001b[m\u001b[m\u001b[38;2;20;210;50;7m \u001b[m\u001b[m\u001b[38;2;20;210;50;7m \u001b[m\u001b[m\u001b[38;2;20;210;50;7m \u001b[m\u001b[m\u001b[38;2;20;210;50;7m#14D232\u001b[m\u001b[m\u001b[38;2;20;210;50;7m \u001b[m\u001b[m\u001b[38;2;20;210;50;7m \u001b[m\u001b[m\u001b[38;2;20;210;50;7m \u001b[m\u001b[m\u001b[38;2;20;210;50;7m \u001b[m\u001b[m\u001b[38;2;202;232;35;7m \u001b[m\u001b[m\u001b[38;2;202;232;35;7m \u001b[m\u001b[m\u001b[38;2;202;232;35;7m \u001b[m\u001b[m\u001b[38;2;202;232;35;7m \u001b[m\u001b[m\u001b[38;2;202;232;35;7m \u001b[m\u001b[m\u001b[38;2;202;232;35;7m#CAE823\u001b[m\u001b[m\u001b[38;2;202;232;35;7m \u001b[m\u001b[m\u001b[38;2;202;232;35;7m \u001b[m\u001b[m\u001b[38;2;202;232;35;7m \u001b[m\u001b[m\u001b[38;2;202;232;35;7m \u001b[m\u001b[m\u001b[38;2;6;197;86;7m \u001b[m\u001b[m\u001b[38;2;6;197;86;7m \u001b[m\u001b[m\u001b[38;2;6;197;86;7m \u001b[m\u001b[m\u001b[38;2;6;197;86;7m \u001b[m\u001b[m\u001b[38;2;6;197;86;7m \u001b[m\u001b[m\u001b[38;2;6;197;86;7m#06C556\u001b[m\u001b[m\u001b[38;2;6;197;86;7m \u001b[m\u001b[m\u001b[38;2;6;197;86;7m \u001b[m\u001b[m\u001b[38;2;6;197;86;7m \u001b[m\u001b[m\u001b[38;2;6;197;86;7m \u001b[m\u001b[m\u001b[38;2;160;35;114;7m \u001b[m\u001b[m\u001b[38;2;160;35;114;7m \u001b[m\u001b[m\u001b[38;2;160;35;114;7m \u001b[m\u001b[m\u001b[38;2;160;35;114;7m \u001b[m\u001b[m\u001b[38;2;160;35;114;7m \u001b[m\u001b[m\u001b[38;2;160;35;114;7m#A02372\u001b[m\u001b[m\u001b[38;2;160;35;114;7m \u001b[m\u001b[m\u001b[38;2;160;35;114;7m \u001b[m\u001b[m\u001b[38;2;160;35;114;7m \u001b[m\u001b[m\u001b[38;2;160;35;114;7m \u001b[m\u001b[m\u001b[38;2;199;186;15;7m \u001b[m\u001b[m\u001b[38;2;199;186;15;7m \u001b[m\u001b[m\u001b[38;2;199;186;15;7m \u001b[m\u001b[m\u001b[38;2;199;186;15;7m \u001b[m\u001b[m\u001b[38;2;199;186;15;7m \u001b[m\u001b[m\u001b[38;2;199;186;15;7m#C7BA0F\u001b[m\u001b[m\u001b[38;2;199;186;15;7m \u001b[m\u001b[m\u001b[38;2;199;186;15;7m \u001b[m\u001b[m\u001b[38;2;199;186;15;7m \u001b[m\u001b[m\u001b[38;2;199;186;15;7m \u001b[m\n",
      "\u001b[m\u001b[38;2;20;210;50;7m \u001b[m\u001b[m\u001b[38;2;20;210;50;7m \u001b[m\u001b[m\u001b[38;2;20;210;50;7m \u001b[m\u001b[m\u001b[38;2;20;210;50;7m \u001b[m\u001b[m\u001b[38;2;20;210;50;7m \u001b[m\u001b[m\u001b[38;2;20;210;50;7m       \u001b[m\u001b[m\u001b[38;2;20;210;50;7m \u001b[m\u001b[m\u001b[38;2;20;210;50;7m \u001b[m\u001b[m\u001b[38;2;20;210;50;7m \u001b[m\u001b[m\u001b[38;2;20;210;50;7m \u001b[m\u001b[m\u001b[38;2;202;232;35;7m \u001b[m\u001b[m\u001b[38;2;202;232;35;7m \u001b[m\u001b[m\u001b[38;2;202;232;35;7m \u001b[m\u001b[m\u001b[38;2;202;232;35;7m \u001b[m\u001b[m\u001b[38;2;202;232;35;7m \u001b[m\u001b[m\u001b[38;2;202;232;35;7m       \u001b[m\u001b[m\u001b[38;2;202;232;35;7m \u001b[m\u001b[m\u001b[38;2;202;232;35;7m \u001b[m\u001b[m\u001b[38;2;202;232;35;7m \u001b[m\u001b[m\u001b[38;2;202;232;35;7m \u001b[m\u001b[m\u001b[38;2;6;197;86;7m \u001b[m\u001b[m\u001b[38;2;6;197;86;7m \u001b[m\u001b[m\u001b[38;2;6;197;86;7m \u001b[m\u001b[m\u001b[38;2;6;197;86;7m \u001b[m\u001b[m\u001b[38;2;6;197;86;7m \u001b[m\u001b[m\u001b[38;2;6;197;86;7m       \u001b[m\u001b[m\u001b[38;2;6;197;86;7m \u001b[m\u001b[m\u001b[38;2;6;197;86;7m \u001b[m\u001b[m\u001b[38;2;6;197;86;7m \u001b[m\u001b[m\u001b[38;2;6;197;86;7m \u001b[m\u001b[m\u001b[38;2;160;35;114;7m \u001b[m\u001b[m\u001b[38;2;160;35;114;7m \u001b[m\u001b[m\u001b[38;2;160;35;114;7m \u001b[m\u001b[m\u001b[38;2;160;35;114;7m \u001b[m\u001b[m\u001b[38;2;160;35;114;7m \u001b[m\u001b[m\u001b[38;2;160;35;114;7m       \u001b[m\u001b[m\u001b[38;2;160;35;114;7m \u001b[m\u001b[m\u001b[38;2;160;35;114;7m \u001b[m\u001b[m\u001b[38;2;160;35;114;7m \u001b[m\u001b[m\u001b[38;2;160;35;114;7m \u001b[m\u001b[m\u001b[38;2;199;186;15;7m \u001b[m\u001b[m\u001b[38;2;199;186;15;7m \u001b[m\u001b[m\u001b[38;2;199;186;15;7m \u001b[m\u001b[m\u001b[38;2;199;186;15;7m \u001b[m\u001b[m\u001b[38;2;199;186;15;7m \u001b[m\u001b[m\u001b[38;2;199;186;15;7m       \u001b[m\u001b[m\u001b[38;2;199;186;15;7m \u001b[m\u001b[m\u001b[38;2;199;186;15;7m \u001b[m\u001b[m\u001b[38;2;199;186;15;7m \u001b[m\u001b[m\u001b[38;2;199;186;15;7m \u001b[m\n",
      "\u001b[m\u001b[38;2;20;210;50;7m \u001b[m\u001b[m\u001b[38;2;20;210;50;7m \u001b[m\u001b[m\u001b[38;2;20;210;50;7m \u001b[m\u001b[m\u001b[38;2;20;210;50;7m \u001b[m\u001b[m\u001b[38;2;20;210;50;7m \u001b[m\u001b[m\u001b[38;2;20;210;50;7m       \u001b[m\u001b[m\u001b[38;2;20;210;50;7m \u001b[m\u001b[m\u001b[38;2;20;210;50;7m \u001b[m\u001b[m\u001b[38;2;20;210;50;7m \u001b[m\u001b[m\u001b[38;2;20;210;50;7m \u001b[m\u001b[m\u001b[38;2;202;232;35;7m \u001b[m\u001b[m\u001b[38;2;202;232;35;7m \u001b[m\u001b[m\u001b[38;2;202;232;35;7m \u001b[m\u001b[m\u001b[38;2;202;232;35;7m \u001b[m\u001b[m\u001b[38;2;202;232;35;7m \u001b[m\u001b[m\u001b[38;2;202;232;35;7m       \u001b[m\u001b[m\u001b[38;2;202;232;35;7m \u001b[m\u001b[m\u001b[38;2;202;232;35;7m \u001b[m\u001b[m\u001b[38;2;202;232;35;7m \u001b[m\u001b[m\u001b[38;2;202;232;35;7m \u001b[m\u001b[m\u001b[38;2;6;197;86;7m \u001b[m\u001b[m\u001b[38;2;6;197;86;7m \u001b[m\u001b[m\u001b[38;2;6;197;86;7m \u001b[m\u001b[m\u001b[38;2;6;197;86;7m \u001b[m\u001b[m\u001b[38;2;6;197;86;7m \u001b[m\u001b[m\u001b[38;2;6;197;86;7m       \u001b[m\u001b[m\u001b[38;2;6;197;86;7m \u001b[m\u001b[m\u001b[38;2;6;197;86;7m \u001b[m\u001b[m\u001b[38;2;6;197;86;7m \u001b[m\u001b[m\u001b[38;2;6;197;86;7m \u001b[m\u001b[m\u001b[38;2;160;35;114;7m \u001b[m\u001b[m\u001b[38;2;160;35;114;7m \u001b[m\u001b[m\u001b[38;2;160;35;114;7m \u001b[m\u001b[m\u001b[38;2;160;35;114;7m \u001b[m\u001b[m\u001b[38;2;160;35;114;7m \u001b[m\u001b[m\u001b[38;2;160;35;114;7m       \u001b[m\u001b[m\u001b[38;2;160;35;114;7m \u001b[m\u001b[m\u001b[38;2;160;35;114;7m \u001b[m\u001b[m\u001b[38;2;160;35;114;7m \u001b[m\u001b[m\u001b[38;2;160;35;114;7m \u001b[m\u001b[m\u001b[38;2;199;186;15;7m \u001b[m\u001b[m\u001b[38;2;199;186;15;7m \u001b[m\u001b[m\u001b[38;2;199;186;15;7m \u001b[m\u001b[m\u001b[38;2;199;186;15;7m \u001b[m\u001b[m\u001b[38;2;199;186;15;7m \u001b[m\u001b[m\u001b[38;2;199;186;15;7m       \u001b[m\u001b[m\u001b[38;2;199;186;15;7m \u001b[m\u001b[m\u001b[38;2;199;186;15;7m \u001b[m\u001b[m\u001b[38;2;199;186;15;7m \u001b[m\u001b[m\u001b[38;2;199;186;15;7m \u001b[m\n",
      "\u001b[m\u001b[38;2;109;5;31;7m \u001b[m\u001b[m\u001b[38;2;109;5;31;7m \u001b[m\u001b[m\u001b[38;2;109;5;31;7m \u001b[m\u001b[m\u001b[38;2;109;5;31;7m \u001b[m\u001b[m\u001b[38;2;109;5;31;7m \u001b[m\u001b[m\u001b[38;2;109;5;31;7m       \u001b[m\u001b[m\u001b[38;2;109;5;31;7m \u001b[m\u001b[m\u001b[38;2;109;5;31;7m \u001b[m\u001b[m\u001b[38;2;109;5;31;7m \u001b[m\u001b[m\u001b[38;2;109;5;31;7m \u001b[m\u001b[m\u001b[38;2;176;90;253;7m \u001b[m\u001b[m\u001b[38;2;176;90;253;7m \u001b[m\u001b[m\u001b[38;2;176;90;253;7m \u001b[m\u001b[m\u001b[38;2;176;90;253;7m \u001b[m\u001b[m\u001b[38;2;176;90;253;7m \u001b[m\u001b[m\u001b[38;2;176;90;253;7m       \u001b[m\u001b[m\u001b[38;2;176;90;253;7m \u001b[m\u001b[m\u001b[38;2;176;90;253;7m \u001b[m\u001b[m\u001b[38;2;176;90;253;7m \u001b[m\u001b[m\u001b[38;2;176;90;253;7m \u001b[m\u001b[m\u001b[38;2;206;213;75;7m \u001b[m\u001b[m\u001b[38;2;206;213;75;7m \u001b[m\u001b[m\u001b[38;2;206;213;75;7m \u001b[m\u001b[m\u001b[38;2;206;213;75;7m \u001b[m\u001b[m\u001b[38;2;206;213;75;7m \u001b[m\u001b[m\u001b[38;2;206;213;75;7m       \u001b[m\u001b[m\u001b[38;2;206;213;75;7m \u001b[m\u001b[m\u001b[38;2;206;213;75;7m \u001b[m\u001b[m\u001b[38;2;206;213;75;7m \u001b[m\u001b[m\u001b[38;2;206;213;75;7m \u001b[m\u001b[m\u001b[38;2;13;144;207;7m \u001b[m\u001b[m\u001b[38;2;13;144;207;7m \u001b[m\u001b[m\u001b[38;2;13;144;207;7m \u001b[m\u001b[m\u001b[38;2;13;144;207;7m \u001b[m\u001b[m\u001b[38;2;13;144;207;7m \u001b[m\u001b[m\u001b[38;2;13;144;207;7m       \u001b[m\u001b[m\u001b[38;2;13;144;207;7m \u001b[m\u001b[m\u001b[38;2;13;144;207;7m \u001b[m\u001b[m\u001b[38;2;13;144;207;7m \u001b[m\u001b[m\u001b[38;2;13;144;207;7m \u001b[m\u001b[m\u001b[38;2;184;218;2;7m \u001b[m\u001b[m\u001b[38;2;184;218;2;7m \u001b[m\u001b[m\u001b[38;2;184;218;2;7m \u001b[m\u001b[m\u001b[38;2;184;218;2;7m \u001b[m\u001b[m\u001b[38;2;184;218;2;7m \u001b[m\u001b[m\u001b[38;2;184;218;2;7m       \u001b[m\u001b[m\u001b[38;2;184;218;2;7m \u001b[m\u001b[m\u001b[38;2;184;218;2;7m \u001b[m\u001b[m\u001b[38;2;184;218;2;7m \u001b[m\u001b[m\u001b[38;2;184;218;2;7m \u001b[m\n",
      "\u001b[m\u001b[38;2;109;5;31;7m \u001b[m\u001b[m\u001b[38;2;109;5;31;7m \u001b[m\u001b[m\u001b[38;2;109;5;31;7m \u001b[m\u001b[m\u001b[38;2;109;5;31;7m \u001b[m\u001b[m\u001b[38;2;109;5;31;7m \u001b[m\u001b[m\u001b[38;2;109;5;31;7m       \u001b[m\u001b[m\u001b[38;2;109;5;31;7m \u001b[m\u001b[m\u001b[38;2;109;5;31;7m \u001b[m\u001b[m\u001b[38;2;109;5;31;7m \u001b[m\u001b[m\u001b[38;2;109;5;31;7m \u001b[m\u001b[m\u001b[38;2;176;90;253;7m \u001b[m\u001b[m\u001b[38;2;176;90;253;7m \u001b[m\u001b[m\u001b[38;2;176;90;253;7m \u001b[m\u001b[m\u001b[38;2;176;90;253;7m \u001b[m\u001b[m\u001b[38;2;176;90;253;7m \u001b[m\u001b[m\u001b[38;2;176;90;253;7m       \u001b[m\u001b[m\u001b[38;2;176;90;253;7m \u001b[m\u001b[m\u001b[38;2;176;90;253;7m \u001b[m\u001b[m\u001b[38;2;176;90;253;7m \u001b[m\u001b[m\u001b[38;2;176;90;253;7m \u001b[m\u001b[m\u001b[38;2;206;213;75;7m \u001b[m\u001b[m\u001b[38;2;206;213;75;7m \u001b[m\u001b[m\u001b[38;2;206;213;75;7m \u001b[m\u001b[m\u001b[38;2;206;213;75;7m \u001b[m\u001b[m\u001b[38;2;206;213;75;7m \u001b[m\u001b[m\u001b[38;2;206;213;75;7m       \u001b[m\u001b[m\u001b[38;2;206;213;75;7m \u001b[m\u001b[m\u001b[38;2;206;213;75;7m \u001b[m\u001b[m\u001b[38;2;206;213;75;7m \u001b[m\u001b[m\u001b[38;2;206;213;75;7m \u001b[m\u001b[m\u001b[38;2;13;144;207;7m \u001b[m\u001b[m\u001b[38;2;13;144;207;7m \u001b[m\u001b[m\u001b[38;2;13;144;207;7m \u001b[m\u001b[m\u001b[38;2;13;144;207;7m \u001b[m\u001b[m\u001b[38;2;13;144;207;7m \u001b[m\u001b[m\u001b[38;2;13;144;207;7m       \u001b[m\u001b[m\u001b[38;2;13;144;207;7m \u001b[m\u001b[m\u001b[38;2;13;144;207;7m \u001b[m\u001b[m\u001b[38;2;13;144;207;7m \u001b[m\u001b[m\u001b[38;2;13;144;207;7m \u001b[m\u001b[m\u001b[38;2;184;218;2;7m \u001b[m\u001b[m\u001b[38;2;184;218;2;7m \u001b[m\u001b[m\u001b[38;2;184;218;2;7m \u001b[m\u001b[m\u001b[38;2;184;218;2;7m \u001b[m\u001b[m\u001b[38;2;184;218;2;7m \u001b[m\u001b[m\u001b[38;2;184;218;2;7m       \u001b[m\u001b[m\u001b[38;2;184;218;2;7m \u001b[m\u001b[m\u001b[38;2;184;218;2;7m \u001b[m\u001b[m\u001b[38;2;184;218;2;7m \u001b[m\u001b[m\u001b[38;2;184;218;2;7m \u001b[m\n",
      "\u001b[m\u001b[38;2;109;5;31;7m \u001b[m\u001b[m\u001b[38;2;109;5;31;7m \u001b[m\u001b[m\u001b[38;2;109;5;31;7m \u001b[m\u001b[m\u001b[38;2;109;5;31;7m \u001b[m\u001b[m\u001b[38;2;109;5;31;7m \u001b[m\u001b[m\u001b[38;2;109;5;31;7m#6D051F\u001b[m\u001b[m\u001b[38;2;109;5;31;7m \u001b[m\u001b[m\u001b[38;2;109;5;31;7m \u001b[m\u001b[m\u001b[38;2;109;5;31;7m \u001b[m\u001b[m\u001b[38;2;109;5;31;7m \u001b[m\u001b[m\u001b[38;2;176;90;253;7m \u001b[m\u001b[m\u001b[38;2;176;90;253;7m \u001b[m\u001b[m\u001b[38;2;176;90;253;7m \u001b[m\u001b[m\u001b[38;2;176;90;253;7m \u001b[m\u001b[m\u001b[38;2;176;90;253;7m \u001b[m\u001b[m\u001b[38;2;176;90;253;7m#B05AFD\u001b[m\u001b[m\u001b[38;2;176;90;253;7m \u001b[m\u001b[m\u001b[38;2;176;90;253;7m \u001b[m\u001b[m\u001b[38;2;176;90;253;7m \u001b[m\u001b[m\u001b[38;2;176;90;253;7m \u001b[m\u001b[m\u001b[38;2;206;213;75;7m \u001b[m\u001b[m\u001b[38;2;206;213;75;7m \u001b[m\u001b[m\u001b[38;2;206;213;75;7m \u001b[m\u001b[m\u001b[38;2;206;213;75;7m \u001b[m\u001b[m\u001b[38;2;206;213;75;7m \u001b[m\u001b[m\u001b[38;2;206;213;75;7m#CED54B\u001b[m\u001b[m\u001b[38;2;206;213;75;7m \u001b[m\u001b[m\u001b[38;2;206;213;75;7m \u001b[m\u001b[m\u001b[38;2;206;213;75;7m \u001b[m\u001b[m\u001b[38;2;206;213;75;7m \u001b[m\u001b[m\u001b[38;2;13;144;207;7m \u001b[m\u001b[m\u001b[38;2;13;144;207;7m \u001b[m\u001b[m\u001b[38;2;13;144;207;7m \u001b[m\u001b[m\u001b[38;2;13;144;207;7m \u001b[m\u001b[m\u001b[38;2;13;144;207;7m \u001b[m\u001b[m\u001b[38;2;13;144;207;7m#0D90CF\u001b[m\u001b[m\u001b[38;2;13;144;207;7m \u001b[m\u001b[m\u001b[38;2;13;144;207;7m \u001b[m\u001b[m\u001b[38;2;13;144;207;7m \u001b[m\u001b[m\u001b[38;2;13;144;207;7m \u001b[m\u001b[m\u001b[38;2;184;218;2;7m \u001b[m\u001b[m\u001b[38;2;184;218;2;7m \u001b[m\u001b[m\u001b[38;2;184;218;2;7m \u001b[m\u001b[m\u001b[38;2;184;218;2;7m \u001b[m\u001b[m\u001b[38;2;184;218;2;7m \u001b[m\u001b[m\u001b[38;2;184;218;2;7m#B8DA02\u001b[m\u001b[m\u001b[38;2;184;218;2;7m \u001b[m\u001b[m\u001b[38;2;184;218;2;7m \u001b[m\u001b[m\u001b[38;2;184;218;2;7m \u001b[m\u001b[m\u001b[38;2;184;218;2;7m \u001b[m\n",
      "\u001b[m\u001b[38;2;109;5;31;7m \u001b[m\u001b[m\u001b[38;2;109;5;31;7m \u001b[m\u001b[m\u001b[38;2;109;5;31;7m \u001b[m\u001b[m\u001b[38;2;109;5;31;7m \u001b[m\u001b[m\u001b[38;2;109;5;31;7m \u001b[m\u001b[m\u001b[38;2;109;5;31;7m       \u001b[m\u001b[m\u001b[38;2;109;5;31;7m \u001b[m\u001b[m\u001b[38;2;109;5;31;7m \u001b[m\u001b[m\u001b[38;2;109;5;31;7m \u001b[m\u001b[m\u001b[38;2;109;5;31;7m \u001b[m\u001b[m\u001b[38;2;176;90;253;7m \u001b[m\u001b[m\u001b[38;2;176;90;253;7m \u001b[m\u001b[m\u001b[38;2;176;90;253;7m \u001b[m\u001b[m\u001b[38;2;176;90;253;7m \u001b[m\u001b[m\u001b[38;2;176;90;253;7m \u001b[m\u001b[m\u001b[38;2;176;90;253;7m       \u001b[m\u001b[m\u001b[38;2;176;90;253;7m \u001b[m\u001b[m\u001b[38;2;176;90;253;7m \u001b[m\u001b[m\u001b[38;2;176;90;253;7m \u001b[m\u001b[m\u001b[38;2;176;90;253;7m \u001b[m\u001b[m\u001b[38;2;206;213;75;7m \u001b[m\u001b[m\u001b[38;2;206;213;75;7m \u001b[m\u001b[m\u001b[38;2;206;213;75;7m \u001b[m\u001b[m\u001b[38;2;206;213;75;7m \u001b[m\u001b[m\u001b[38;2;206;213;75;7m \u001b[m\u001b[m\u001b[38;2;206;213;75;7m       \u001b[m\u001b[m\u001b[38;2;206;213;75;7m \u001b[m\u001b[m\u001b[38;2;206;213;75;7m \u001b[m\u001b[m\u001b[38;2;206;213;75;7m \u001b[m\u001b[m\u001b[38;2;206;213;75;7m \u001b[m\u001b[m\u001b[38;2;13;144;207;7m \u001b[m\u001b[m\u001b[38;2;13;144;207;7m \u001b[m\u001b[m\u001b[38;2;13;144;207;7m \u001b[m\u001b[m\u001b[38;2;13;144;207;7m \u001b[m\u001b[m\u001b[38;2;13;144;207;7m \u001b[m\u001b[m\u001b[38;2;13;144;207;7m       \u001b[m\u001b[m\u001b[38;2;13;144;207;7m \u001b[m\u001b[m\u001b[38;2;13;144;207;7m \u001b[m\u001b[m\u001b[38;2;13;144;207;7m \u001b[m\u001b[m\u001b[38;2;13;144;207;7m \u001b[m\u001b[m\u001b[38;2;184;218;2;7m \u001b[m\u001b[m\u001b[38;2;184;218;2;7m \u001b[m\u001b[m\u001b[38;2;184;218;2;7m \u001b[m\u001b[m\u001b[38;2;184;218;2;7m \u001b[m\u001b[m\u001b[38;2;184;218;2;7m \u001b[m\u001b[m\u001b[38;2;184;218;2;7m       \u001b[m\u001b[m\u001b[38;2;184;218;2;7m \u001b[m\u001b[m\u001b[38;2;184;218;2;7m \u001b[m\u001b[m\u001b[38;2;184;218;2;7m \u001b[m\u001b[m\u001b[38;2;184;218;2;7m \u001b[m\n",
      "\u001b[m\u001b[38;2;109;5;31;7m \u001b[m\u001b[m\u001b[38;2;109;5;31;7m \u001b[m\u001b[m\u001b[38;2;109;5;31;7m \u001b[m\u001b[m\u001b[38;2;109;5;31;7m \u001b[m\u001b[m\u001b[38;2;109;5;31;7m \u001b[m\u001b[m\u001b[38;2;109;5;31;7m       \u001b[m\u001b[m\u001b[38;2;109;5;31;7m \u001b[m\u001b[m\u001b[38;2;109;5;31;7m \u001b[m\u001b[m\u001b[38;2;109;5;31;7m \u001b[m\u001b[m\u001b[38;2;109;5;31;7m \u001b[m\u001b[m\u001b[38;2;176;90;253;7m \u001b[m\u001b[m\u001b[38;2;176;90;253;7m \u001b[m\u001b[m\u001b[38;2;176;90;253;7m \u001b[m\u001b[m\u001b[38;2;176;90;253;7m \u001b[m\u001b[m\u001b[38;2;176;90;253;7m \u001b[m\u001b[m\u001b[38;2;176;90;253;7m       \u001b[m\u001b[m\u001b[38;2;176;90;253;7m \u001b[m\u001b[m\u001b[38;2;176;90;253;7m \u001b[m\u001b[m\u001b[38;2;176;90;253;7m \u001b[m\u001b[m\u001b[38;2;176;90;253;7m \u001b[m\u001b[m\u001b[38;2;206;213;75;7m \u001b[m\u001b[m\u001b[38;2;206;213;75;7m \u001b[m\u001b[m\u001b[38;2;206;213;75;7m \u001b[m\u001b[m\u001b[38;2;206;213;75;7m \u001b[m\u001b[m\u001b[38;2;206;213;75;7m \u001b[m\u001b[m\u001b[38;2;206;213;75;7m       \u001b[m\u001b[m\u001b[38;2;206;213;75;7m \u001b[m\u001b[m\u001b[38;2;206;213;75;7m \u001b[m\u001b[m\u001b[38;2;206;213;75;7m \u001b[m\u001b[m\u001b[38;2;206;213;75;7m \u001b[m\u001b[m\u001b[38;2;13;144;207;7m \u001b[m\u001b[m\u001b[38;2;13;144;207;7m \u001b[m\u001b[m\u001b[38;2;13;144;207;7m \u001b[m\u001b[m\u001b[38;2;13;144;207;7m \u001b[m\u001b[m\u001b[38;2;13;144;207;7m \u001b[m\u001b[m\u001b[38;2;13;144;207;7m       \u001b[m\u001b[m\u001b[38;2;13;144;207;7m \u001b[m\u001b[m\u001b[38;2;13;144;207;7m \u001b[m\u001b[m\u001b[38;2;13;144;207;7m \u001b[m\u001b[m\u001b[38;2;13;144;207;7m \u001b[m\u001b[m\u001b[38;2;184;218;2;7m \u001b[m\u001b[m\u001b[38;2;184;218;2;7m \u001b[m\u001b[m\u001b[38;2;184;218;2;7m \u001b[m\u001b[m\u001b[38;2;184;218;2;7m \u001b[m\u001b[m\u001b[38;2;184;218;2;7m \u001b[m\u001b[m\u001b[38;2;184;218;2;7m       \u001b[m\u001b[m\u001b[38;2;184;218;2;7m \u001b[m\u001b[m\u001b[38;2;184;218;2;7m \u001b[m\u001b[m\u001b[38;2;184;218;2;7m \u001b[m\u001b[m\u001b[38;2;184;218;2;7m \u001b[m\n",
      "\u001b[m\u001b[38;2;214;128;240;7m \u001b[m\u001b[m\u001b[38;2;214;128;240;7m \u001b[m\u001b[m\u001b[38;2;214;128;240;7m \u001b[m\u001b[m\u001b[38;2;214;128;240;7m \u001b[m\u001b[m\u001b[38;2;214;128;240;7m \u001b[m\u001b[m\u001b[38;2;214;128;240;7m       \u001b[m\u001b[m\u001b[38;2;214;128;240;7m \u001b[m\u001b[m\u001b[38;2;214;128;240;7m \u001b[m\u001b[m\u001b[38;2;214;128;240;7m \u001b[m\u001b[m\u001b[38;2;214;128;240;7m \u001b[m\u001b[m\u001b[38;2;213;175;116;7m \u001b[m\u001b[m\u001b[38;2;213;175;116;7m \u001b[m\u001b[m\u001b[38;2;213;175;116;7m \u001b[m\u001b[m\u001b[38;2;213;175;116;7m \u001b[m\u001b[m\u001b[38;2;213;175;116;7m \u001b[m\u001b[m\u001b[38;2;213;175;116;7m       \u001b[m\u001b[m\u001b[38;2;213;175;116;7m \u001b[m\u001b[m\u001b[38;2;213;175;116;7m \u001b[m\u001b[m\u001b[38;2;213;175;116;7m \u001b[m\u001b[m\u001b[38;2;213;175;116;7m \u001b[m\u001b[m\u001b[38;2;198;180;117;7m \u001b[m\u001b[m\u001b[38;2;198;180;117;7m \u001b[m\u001b[m\u001b[38;2;198;180;117;7m \u001b[m\u001b[m\u001b[38;2;198;180;117;7m \u001b[m\u001b[m\u001b[38;2;198;180;117;7m \u001b[m\u001b[m\u001b[38;2;198;180;117;7m       \u001b[m\u001b[m\u001b[38;2;198;180;117;7m \u001b[m\u001b[m\u001b[38;2;198;180;117;7m \u001b[m\u001b[m\u001b[38;2;198;180;117;7m \u001b[m\u001b[m\u001b[38;2;198;180;117;7m \u001b[m\u001b[m\u001b[38;2;4;159;14;7m \u001b[m\u001b[m\u001b[38;2;4;159;14;7m \u001b[m\u001b[m\u001b[38;2;4;159;14;7m \u001b[m\u001b[m\u001b[38;2;4;159;14;7m \u001b[m\u001b[m\u001b[38;2;4;159;14;7m \u001b[m\u001b[m\u001b[38;2;4;159;14;7m       \u001b[m\u001b[m\u001b[38;2;4;159;14;7m \u001b[m\u001b[m\u001b[38;2;4;159;14;7m \u001b[m\u001b[m\u001b[38;2;4;159;14;7m \u001b[m\u001b[m\u001b[38;2;4;159;14;7m \u001b[m\u001b[m\u001b[38;2;143;228;248;7m \u001b[m\u001b[m\u001b[38;2;143;228;248;7m \u001b[m\u001b[m\u001b[38;2;143;228;248;7m \u001b[m\u001b[m\u001b[38;2;143;228;248;7m \u001b[m\u001b[m\u001b[38;2;143;228;248;7m \u001b[m\u001b[m\u001b[38;2;143;228;248;7m       \u001b[m\u001b[m\u001b[38;2;143;228;248;7m \u001b[m\u001b[m\u001b[38;2;143;228;248;7m \u001b[m\u001b[m\u001b[38;2;143;228;248;7m \u001b[m\u001b[m\u001b[38;2;143;228;248;7m \u001b[m\n",
      "\u001b[m\u001b[38;2;214;128;240;7m \u001b[m\u001b[m\u001b[38;2;214;128;240;7m \u001b[m\u001b[m\u001b[38;2;214;128;240;7m \u001b[m\u001b[m\u001b[38;2;214;128;240;7m \u001b[m\u001b[m\u001b[38;2;214;128;240;7m \u001b[m\u001b[m\u001b[38;2;214;128;240;7m       \u001b[m\u001b[m\u001b[38;2;214;128;240;7m \u001b[m\u001b[m\u001b[38;2;214;128;240;7m \u001b[m\u001b[m\u001b[38;2;214;128;240;7m \u001b[m\u001b[m\u001b[38;2;214;128;240;7m \u001b[m\u001b[m\u001b[38;2;213;175;116;7m \u001b[m\u001b[m\u001b[38;2;213;175;116;7m \u001b[m\u001b[m\u001b[38;2;213;175;116;7m \u001b[m\u001b[m\u001b[38;2;213;175;116;7m \u001b[m\u001b[m\u001b[38;2;213;175;116;7m \u001b[m\u001b[m\u001b[38;2;213;175;116;7m       \u001b[m\u001b[m\u001b[38;2;213;175;116;7m \u001b[m\u001b[m\u001b[38;2;213;175;116;7m \u001b[m\u001b[m\u001b[38;2;213;175;116;7m \u001b[m\u001b[m\u001b[38;2;213;175;116;7m \u001b[m\u001b[m\u001b[38;2;198;180;117;7m \u001b[m\u001b[m\u001b[38;2;198;180;117;7m \u001b[m\u001b[m\u001b[38;2;198;180;117;7m \u001b[m\u001b[m\u001b[38;2;198;180;117;7m \u001b[m\u001b[m\u001b[38;2;198;180;117;7m \u001b[m\u001b[m\u001b[38;2;198;180;117;7m       \u001b[m\u001b[m\u001b[38;2;198;180;117;7m \u001b[m\u001b[m\u001b[38;2;198;180;117;7m \u001b[m\u001b[m\u001b[38;2;198;180;117;7m \u001b[m\u001b[m\u001b[38;2;198;180;117;7m \u001b[m\u001b[m\u001b[38;2;4;159;14;7m \u001b[m\u001b[m\u001b[38;2;4;159;14;7m \u001b[m\u001b[m\u001b[38;2;4;159;14;7m \u001b[m\u001b[m\u001b[38;2;4;159;14;7m \u001b[m\u001b[m\u001b[38;2;4;159;14;7m \u001b[m\u001b[m\u001b[38;2;4;159;14;7m       \u001b[m\u001b[m\u001b[38;2;4;159;14;7m \u001b[m\u001b[m\u001b[38;2;4;159;14;7m \u001b[m\u001b[m\u001b[38;2;4;159;14;7m \u001b[m\u001b[m\u001b[38;2;4;159;14;7m \u001b[m\u001b[m\u001b[38;2;143;228;248;7m \u001b[m\u001b[m\u001b[38;2;143;228;248;7m \u001b[m\u001b[m\u001b[38;2;143;228;248;7m \u001b[m\u001b[m\u001b[38;2;143;228;248;7m \u001b[m\u001b[m\u001b[38;2;143;228;248;7m \u001b[m\u001b[m\u001b[38;2;143;228;248;7m       \u001b[m\u001b[m\u001b[38;2;143;228;248;7m \u001b[m\u001b[m\u001b[38;2;143;228;248;7m \u001b[m\u001b[m\u001b[38;2;143;228;248;7m \u001b[m\u001b[m\u001b[38;2;143;228;248;7m \u001b[m\n",
      "\u001b[m\u001b[38;2;214;128;240;7m \u001b[m\u001b[m\u001b[38;2;214;128;240;7m \u001b[m\u001b[m\u001b[38;2;214;128;240;7m \u001b[m\u001b[m\u001b[38;2;214;128;240;7m \u001b[m\u001b[m\u001b[38;2;214;128;240;7m \u001b[m\u001b[m\u001b[38;2;214;128;240;7m#D680F0\u001b[m\u001b[m\u001b[38;2;214;128;240;7m \u001b[m\u001b[m\u001b[38;2;214;128;240;7m \u001b[m\u001b[m\u001b[38;2;214;128;240;7m \u001b[m\u001b[m\u001b[38;2;214;128;240;7m \u001b[m\u001b[m\u001b[38;2;213;175;116;7m \u001b[m\u001b[m\u001b[38;2;213;175;116;7m \u001b[m\u001b[m\u001b[38;2;213;175;116;7m \u001b[m\u001b[m\u001b[38;2;213;175;116;7m \u001b[m\u001b[m\u001b[38;2;213;175;116;7m \u001b[m\u001b[m\u001b[38;2;213;175;116;7m#D5AF74\u001b[m\u001b[m\u001b[38;2;213;175;116;7m \u001b[m\u001b[m\u001b[38;2;213;175;116;7m \u001b[m\u001b[m\u001b[38;2;213;175;116;7m \u001b[m\u001b[m\u001b[38;2;213;175;116;7m \u001b[m\u001b[m\u001b[38;2;198;180;117;7m \u001b[m\u001b[m\u001b[38;2;198;180;117;7m \u001b[m\u001b[m\u001b[38;2;198;180;117;7m \u001b[m\u001b[m\u001b[38;2;198;180;117;7m \u001b[m\u001b[m\u001b[38;2;198;180;117;7m \u001b[m\u001b[m\u001b[38;2;198;180;117;7m#C6B475\u001b[m\u001b[m\u001b[38;2;198;180;117;7m \u001b[m\u001b[m\u001b[38;2;198;180;117;7m \u001b[m\u001b[m\u001b[38;2;198;180;117;7m \u001b[m\u001b[m\u001b[38;2;198;180;117;7m \u001b[m\u001b[m\u001b[38;2;4;159;14;7m \u001b[m\u001b[m\u001b[38;2;4;159;14;7m \u001b[m\u001b[m\u001b[38;2;4;159;14;7m \u001b[m\u001b[m\u001b[38;2;4;159;14;7m \u001b[m\u001b[m\u001b[38;2;4;159;14;7m \u001b[m\u001b[m\u001b[38;2;4;159;14;7m#049F0E\u001b[m\u001b[m\u001b[38;2;4;159;14;7m \u001b[m\u001b[m\u001b[38;2;4;159;14;7m \u001b[m\u001b[m\u001b[38;2;4;159;14;7m \u001b[m\u001b[m\u001b[38;2;4;159;14;7m \u001b[m\u001b[m\u001b[38;2;143;228;248;7m \u001b[m\u001b[m\u001b[38;2;143;228;248;7m \u001b[m\u001b[m\u001b[38;2;143;228;248;7m \u001b[m\u001b[m\u001b[38;2;143;228;248;7m \u001b[m\u001b[m\u001b[38;2;143;228;248;7m \u001b[m\u001b[m\u001b[38;2;143;228;248;7m#8FE4F8\u001b[m\u001b[m\u001b[38;2;143;228;248;7m \u001b[m\u001b[m\u001b[38;2;143;228;248;7m \u001b[m\u001b[m\u001b[38;2;143;228;248;7m \u001b[m\u001b[m\u001b[38;2;143;228;248;7m \u001b[m\n",
      "\u001b[m\u001b[38;2;214;128;240;7m \u001b[m\u001b[m\u001b[38;2;214;128;240;7m \u001b[m\u001b[m\u001b[38;2;214;128;240;7m \u001b[m\u001b[m\u001b[38;2;214;128;240;7m \u001b[m\u001b[m\u001b[38;2;214;128;240;7m \u001b[m\u001b[m\u001b[38;2;214;128;240;7m       \u001b[m\u001b[m\u001b[38;2;214;128;240;7m \u001b[m\u001b[m\u001b[38;2;214;128;240;7m \u001b[m\u001b[m\u001b[38;2;214;128;240;7m \u001b[m\u001b[m\u001b[38;2;214;128;240;7m \u001b[m\u001b[m\u001b[38;2;213;175;116;7m \u001b[m\u001b[m\u001b[38;2;213;175;116;7m \u001b[m\u001b[m\u001b[38;2;213;175;116;7m \u001b[m\u001b[m\u001b[38;2;213;175;116;7m \u001b[m\u001b[m\u001b[38;2;213;175;116;7m \u001b[m\u001b[m\u001b[38;2;213;175;116;7m       \u001b[m\u001b[m\u001b[38;2;213;175;116;7m \u001b[m\u001b[m\u001b[38;2;213;175;116;7m \u001b[m\u001b[m\u001b[38;2;213;175;116;7m \u001b[m\u001b[m\u001b[38;2;213;175;116;7m \u001b[m\u001b[m\u001b[38;2;198;180;117;7m \u001b[m\u001b[m\u001b[38;2;198;180;117;7m \u001b[m\u001b[m\u001b[38;2;198;180;117;7m \u001b[m\u001b[m\u001b[38;2;198;180;117;7m \u001b[m\u001b[m\u001b[38;2;198;180;117;7m \u001b[m\u001b[m\u001b[38;2;198;180;117;7m       \u001b[m\u001b[m\u001b[38;2;198;180;117;7m \u001b[m\u001b[m\u001b[38;2;198;180;117;7m \u001b[m\u001b[m\u001b[38;2;198;180;117;7m \u001b[m\u001b[m\u001b[38;2;198;180;117;7m \u001b[m\u001b[m\u001b[38;2;4;159;14;7m \u001b[m\u001b[m\u001b[38;2;4;159;14;7m \u001b[m\u001b[m\u001b[38;2;4;159;14;7m \u001b[m\u001b[m\u001b[38;2;4;159;14;7m \u001b[m\u001b[m\u001b[38;2;4;159;14;7m \u001b[m\u001b[m\u001b[38;2;4;159;14;7m       \u001b[m\u001b[m\u001b[38;2;4;159;14;7m \u001b[m\u001b[m\u001b[38;2;4;159;14;7m \u001b[m\u001b[m\u001b[38;2;4;159;14;7m \u001b[m\u001b[m\u001b[38;2;4;159;14;7m \u001b[m\u001b[m\u001b[38;2;143;228;248;7m \u001b[m\u001b[m\u001b[38;2;143;228;248;7m \u001b[m\u001b[m\u001b[38;2;143;228;248;7m \u001b[m\u001b[m\u001b[38;2;143;228;248;7m \u001b[m\u001b[m\u001b[38;2;143;228;248;7m \u001b[m\u001b[m\u001b[38;2;143;228;248;7m       \u001b[m\u001b[m\u001b[38;2;143;228;248;7m \u001b[m\u001b[m\u001b[38;2;143;228;248;7m \u001b[m\u001b[m\u001b[38;2;143;228;248;7m \u001b[m\u001b[m\u001b[38;2;143;228;248;7m \u001b[m\n",
      "\u001b[m\u001b[38;2;214;128;240;7m \u001b[m\u001b[m\u001b[38;2;214;128;240;7m \u001b[m\u001b[m\u001b[38;2;214;128;240;7m \u001b[m\u001b[m\u001b[38;2;214;128;240;7m \u001b[m\u001b[m\u001b[38;2;214;128;240;7m \u001b[m\u001b[m\u001b[38;2;214;128;240;7m       \u001b[m\u001b[m\u001b[38;2;214;128;240;7m \u001b[m\u001b[m\u001b[38;2;214;128;240;7m \u001b[m\u001b[m\u001b[38;2;214;128;240;7m \u001b[m\u001b[m\u001b[38;2;214;128;240;7m \u001b[m\u001b[m\u001b[38;2;213;175;116;7m \u001b[m\u001b[m\u001b[38;2;213;175;116;7m \u001b[m\u001b[m\u001b[38;2;213;175;116;7m \u001b[m\u001b[m\u001b[38;2;213;175;116;7m \u001b[m\u001b[m\u001b[38;2;213;175;116;7m \u001b[m\u001b[m\u001b[38;2;213;175;116;7m       \u001b[m\u001b[m\u001b[38;2;213;175;116;7m \u001b[m\u001b[m\u001b[38;2;213;175;116;7m \u001b[m\u001b[m\u001b[38;2;213;175;116;7m \u001b[m\u001b[m\u001b[38;2;213;175;116;7m \u001b[m\u001b[m\u001b[38;2;198;180;117;7m \u001b[m\u001b[m\u001b[38;2;198;180;117;7m \u001b[m\u001b[m\u001b[38;2;198;180;117;7m \u001b[m\u001b[m\u001b[38;2;198;180;117;7m \u001b[m\u001b[m\u001b[38;2;198;180;117;7m \u001b[m\u001b[m\u001b[38;2;198;180;117;7m       \u001b[m\u001b[m\u001b[38;2;198;180;117;7m \u001b[m\u001b[m\u001b[38;2;198;180;117;7m \u001b[m\u001b[m\u001b[38;2;198;180;117;7m \u001b[m\u001b[m\u001b[38;2;198;180;117;7m \u001b[m\u001b[m\u001b[38;2;4;159;14;7m \u001b[m\u001b[m\u001b[38;2;4;159;14;7m \u001b[m\u001b[m\u001b[38;2;4;159;14;7m \u001b[m\u001b[m\u001b[38;2;4;159;14;7m \u001b[m\u001b[m\u001b[38;2;4;159;14;7m \u001b[m\u001b[m\u001b[38;2;4;159;14;7m       \u001b[m\u001b[m\u001b[38;2;4;159;14;7m \u001b[m\u001b[m\u001b[38;2;4;159;14;7m \u001b[m\u001b[m\u001b[38;2;4;159;14;7m \u001b[m\u001b[m\u001b[38;2;4;159;14;7m \u001b[m\u001b[m\u001b[38;2;143;228;248;7m \u001b[m\u001b[m\u001b[38;2;143;228;248;7m \u001b[m\u001b[m\u001b[38;2;143;228;248;7m \u001b[m\u001b[m\u001b[38;2;143;228;248;7m \u001b[m\u001b[m\u001b[38;2;143;228;248;7m \u001b[m\u001b[m\u001b[38;2;143;228;248;7m       \u001b[m\u001b[m\u001b[38;2;143;228;248;7m \u001b[m\u001b[m\u001b[38;2;143;228;248;7m \u001b[m\u001b[m\u001b[38;2;143;228;248;7m \u001b[m\u001b[m\u001b[38;2;143;228;248;7m \u001b[m\n",
      "\u001b[m\u001b[38;2;60;24;178;7m \u001b[m\u001b[m\u001b[38;2;60;24;178;7m \u001b[m\u001b[m\u001b[38;2;60;24;178;7m \u001b[m\u001b[m\u001b[38;2;60;24;178;7m \u001b[m\u001b[m\u001b[38;2;60;24;178;7m \u001b[m\u001b[m\u001b[38;2;60;24;178;7m       \u001b[m\u001b[m\u001b[38;2;60;24;178;7m \u001b[m\u001b[m\u001b[38;2;60;24;178;7m \u001b[m\u001b[m\u001b[38;2;60;24;178;7m \u001b[m\u001b[m\u001b[38;2;60;24;178;7m \u001b[m\u001b[m\u001b[38;2;35;65;6;7m \u001b[m\u001b[m\u001b[38;2;35;65;6;7m \u001b[m\u001b[m\u001b[38;2;35;65;6;7m \u001b[m\u001b[m\u001b[38;2;35;65;6;7m \u001b[m\u001b[m\u001b[38;2;35;65;6;7m \u001b[m\u001b[m\u001b[38;2;35;65;6;7m       \u001b[m\u001b[m\u001b[38;2;35;65;6;7m \u001b[m\u001b[m\u001b[38;2;35;65;6;7m \u001b[m\u001b[m\u001b[38;2;35;65;6;7m \u001b[m\u001b[m\u001b[38;2;35;65;6;7m \u001b[m\u001b[m\u001b[38;2;133;186;119;7m \u001b[m\u001b[m\u001b[38;2;133;186;119;7m \u001b[m\u001b[m\u001b[38;2;133;186;119;7m \u001b[m\u001b[m\u001b[38;2;133;186;119;7m \u001b[m\u001b[m\u001b[38;2;133;186;119;7m \u001b[m\u001b[m\u001b[38;2;133;186;119;7m       \u001b[m\u001b[m\u001b[38;2;133;186;119;7m \u001b[m\u001b[m\u001b[38;2;133;186;119;7m \u001b[m\u001b[m\u001b[38;2;133;186;119;7m \u001b[m\u001b[m\u001b[38;2;133;186;119;7m \u001b[m\u001b[m\u001b[38;2;72;32;82;7m \u001b[m\u001b[m\u001b[38;2;72;32;82;7m \u001b[m\u001b[m\u001b[38;2;72;32;82;7m \u001b[m\u001b[m\u001b[38;2;72;32;82;7m \u001b[m\u001b[m\u001b[38;2;72;32;82;7m \u001b[m\u001b[m\u001b[38;2;72;32;82;7m       \u001b[m\u001b[m\u001b[38;2;72;32;82;7m \u001b[m\u001b[m\u001b[38;2;72;32;82;7m \u001b[m\u001b[m\u001b[38;2;72;32;82;7m \u001b[m\u001b[m\u001b[38;2;72;32;82;7m \u001b[m\u001b[m\u001b[38;2;217;141;145;7m \u001b[m\u001b[m\u001b[38;2;217;141;145;7m \u001b[m\u001b[m\u001b[38;2;217;141;145;7m \u001b[m\u001b[m\u001b[38;2;217;141;145;7m \u001b[m\u001b[m\u001b[38;2;217;141;145;7m \u001b[m\u001b[m\u001b[38;2;217;141;145;7m       \u001b[m\u001b[m\u001b[38;2;217;141;145;7m \u001b[m\u001b[m\u001b[38;2;217;141;145;7m \u001b[m\u001b[m\u001b[38;2;217;141;145;7m \u001b[m\u001b[m\u001b[38;2;217;141;145;7m \u001b[m\n",
      "\u001b[m\u001b[38;2;60;24;178;7m \u001b[m\u001b[m\u001b[38;2;60;24;178;7m \u001b[m\u001b[m\u001b[38;2;60;24;178;7m \u001b[m\u001b[m\u001b[38;2;60;24;178;7m \u001b[m\u001b[m\u001b[38;2;60;24;178;7m \u001b[m\u001b[m\u001b[38;2;60;24;178;7m       \u001b[m\u001b[m\u001b[38;2;60;24;178;7m \u001b[m\u001b[m\u001b[38;2;60;24;178;7m \u001b[m\u001b[m\u001b[38;2;60;24;178;7m \u001b[m\u001b[m\u001b[38;2;60;24;178;7m \u001b[m\u001b[m\u001b[38;2;35;65;6;7m \u001b[m\u001b[m\u001b[38;2;35;65;6;7m \u001b[m\u001b[m\u001b[38;2;35;65;6;7m \u001b[m\u001b[m\u001b[38;2;35;65;6;7m \u001b[m\u001b[m\u001b[38;2;35;65;6;7m \u001b[m\u001b[m\u001b[38;2;35;65;6;7m       \u001b[m\u001b[m\u001b[38;2;35;65;6;7m \u001b[m\u001b[m\u001b[38;2;35;65;6;7m \u001b[m\u001b[m\u001b[38;2;35;65;6;7m \u001b[m\u001b[m\u001b[38;2;35;65;6;7m \u001b[m\u001b[m\u001b[38;2;133;186;119;7m \u001b[m\u001b[m\u001b[38;2;133;186;119;7m \u001b[m\u001b[m\u001b[38;2;133;186;119;7m \u001b[m\u001b[m\u001b[38;2;133;186;119;7m \u001b[m\u001b[m\u001b[38;2;133;186;119;7m \u001b[m\u001b[m\u001b[38;2;133;186;119;7m       \u001b[m\u001b[m\u001b[38;2;133;186;119;7m \u001b[m\u001b[m\u001b[38;2;133;186;119;7m \u001b[m\u001b[m\u001b[38;2;133;186;119;7m \u001b[m\u001b[m\u001b[38;2;133;186;119;7m \u001b[m\u001b[m\u001b[38;2;72;32;82;7m \u001b[m\u001b[m\u001b[38;2;72;32;82;7m \u001b[m\u001b[m\u001b[38;2;72;32;82;7m \u001b[m\u001b[m\u001b[38;2;72;32;82;7m \u001b[m\u001b[m\u001b[38;2;72;32;82;7m \u001b[m\u001b[m\u001b[38;2;72;32;82;7m       \u001b[m\u001b[m\u001b[38;2;72;32;82;7m \u001b[m\u001b[m\u001b[38;2;72;32;82;7m \u001b[m\u001b[m\u001b[38;2;72;32;82;7m \u001b[m\u001b[m\u001b[38;2;72;32;82;7m \u001b[m\u001b[m\u001b[38;2;217;141;145;7m \u001b[m\u001b[m\u001b[38;2;217;141;145;7m \u001b[m\u001b[m\u001b[38;2;217;141;145;7m \u001b[m\u001b[m\u001b[38;2;217;141;145;7m \u001b[m\u001b[m\u001b[38;2;217;141;145;7m \u001b[m\u001b[m\u001b[38;2;217;141;145;7m       \u001b[m\u001b[m\u001b[38;2;217;141;145;7m \u001b[m\u001b[m\u001b[38;2;217;141;145;7m \u001b[m\u001b[m\u001b[38;2;217;141;145;7m \u001b[m\u001b[m\u001b[38;2;217;141;145;7m \u001b[m\n",
      "\u001b[m\u001b[38;2;60;24;178;7m \u001b[m\u001b[m\u001b[38;2;60;24;178;7m \u001b[m\u001b[m\u001b[38;2;60;24;178;7m \u001b[m\u001b[m\u001b[38;2;60;24;178;7m \u001b[m\u001b[m\u001b[38;2;60;24;178;7m \u001b[m\u001b[m\u001b[38;2;60;24;178;7m#3C18B2\u001b[m\u001b[m\u001b[38;2;60;24;178;7m \u001b[m\u001b[m\u001b[38;2;60;24;178;7m \u001b[m\u001b[m\u001b[38;2;60;24;178;7m \u001b[m\u001b[m\u001b[38;2;60;24;178;7m \u001b[m\u001b[m\u001b[38;2;35;65;6;7m \u001b[m\u001b[m\u001b[38;2;35;65;6;7m \u001b[m\u001b[m\u001b[38;2;35;65;6;7m \u001b[m\u001b[m\u001b[38;2;35;65;6;7m \u001b[m\u001b[m\u001b[38;2;35;65;6;7m \u001b[m\u001b[m\u001b[38;2;35;65;6;7m#234106\u001b[m\u001b[m\u001b[38;2;35;65;6;7m \u001b[m\u001b[m\u001b[38;2;35;65;6;7m \u001b[m\u001b[m\u001b[38;2;35;65;6;7m \u001b[m\u001b[m\u001b[38;2;35;65;6;7m \u001b[m\u001b[m\u001b[38;2;133;186;119;7m \u001b[m\u001b[m\u001b[38;2;133;186;119;7m \u001b[m\u001b[m\u001b[38;2;133;186;119;7m \u001b[m\u001b[m\u001b[38;2;133;186;119;7m \u001b[m\u001b[m\u001b[38;2;133;186;119;7m \u001b[m\u001b[m\u001b[38;2;133;186;119;7m#85BA77\u001b[m\u001b[m\u001b[38;2;133;186;119;7m \u001b[m\u001b[m\u001b[38;2;133;186;119;7m \u001b[m\u001b[m\u001b[38;2;133;186;119;7m \u001b[m\u001b[m\u001b[38;2;133;186;119;7m \u001b[m\u001b[m\u001b[38;2;72;32;82;7m \u001b[m\u001b[m\u001b[38;2;72;32;82;7m \u001b[m\u001b[m\u001b[38;2;72;32;82;7m \u001b[m\u001b[m\u001b[38;2;72;32;82;7m \u001b[m\u001b[m\u001b[38;2;72;32;82;7m \u001b[m\u001b[m\u001b[38;2;72;32;82;7m#482052\u001b[m\u001b[m\u001b[38;2;72;32;82;7m \u001b[m\u001b[m\u001b[38;2;72;32;82;7m \u001b[m\u001b[m\u001b[38;2;72;32;82;7m \u001b[m\u001b[m\u001b[38;2;72;32;82;7m \u001b[m\u001b[m\u001b[38;2;217;141;145;7m \u001b[m\u001b[m\u001b[38;2;217;141;145;7m \u001b[m\u001b[m\u001b[38;2;217;141;145;7m \u001b[m\u001b[m\u001b[38;2;217;141;145;7m \u001b[m\u001b[m\u001b[38;2;217;141;145;7m \u001b[m\u001b[m\u001b[38;2;217;141;145;7m#D98D91\u001b[m\u001b[m\u001b[38;2;217;141;145;7m \u001b[m\u001b[m\u001b[38;2;217;141;145;7m \u001b[m\u001b[m\u001b[38;2;217;141;145;7m \u001b[m\u001b[m\u001b[38;2;217;141;145;7m \u001b[m\n",
      "\u001b[m\u001b[38;2;60;24;178;7m \u001b[m\u001b[m\u001b[38;2;60;24;178;7m \u001b[m\u001b[m\u001b[38;2;60;24;178;7m \u001b[m\u001b[m\u001b[38;2;60;24;178;7m \u001b[m\u001b[m\u001b[38;2;60;24;178;7m \u001b[m\u001b[m\u001b[38;2;60;24;178;7m       \u001b[m\u001b[m\u001b[38;2;60;24;178;7m \u001b[m\u001b[m\u001b[38;2;60;24;178;7m \u001b[m\u001b[m\u001b[38;2;60;24;178;7m \u001b[m\u001b[m\u001b[38;2;60;24;178;7m \u001b[m\u001b[m\u001b[38;2;35;65;6;7m \u001b[m\u001b[m\u001b[38;2;35;65;6;7m \u001b[m\u001b[m\u001b[38;2;35;65;6;7m \u001b[m\u001b[m\u001b[38;2;35;65;6;7m \u001b[m\u001b[m\u001b[38;2;35;65;6;7m \u001b[m\u001b[m\u001b[38;2;35;65;6;7m       \u001b[m\u001b[m\u001b[38;2;35;65;6;7m \u001b[m\u001b[m\u001b[38;2;35;65;6;7m \u001b[m\u001b[m\u001b[38;2;35;65;6;7m \u001b[m\u001b[m\u001b[38;2;35;65;6;7m \u001b[m\u001b[m\u001b[38;2;133;186;119;7m \u001b[m\u001b[m\u001b[38;2;133;186;119;7m \u001b[m\u001b[m\u001b[38;2;133;186;119;7m \u001b[m\u001b[m\u001b[38;2;133;186;119;7m \u001b[m\u001b[m\u001b[38;2;133;186;119;7m \u001b[m\u001b[m\u001b[38;2;133;186;119;7m       \u001b[m\u001b[m\u001b[38;2;133;186;119;7m \u001b[m\u001b[m\u001b[38;2;133;186;119;7m \u001b[m\u001b[m\u001b[38;2;133;186;119;7m \u001b[m\u001b[m\u001b[38;2;133;186;119;7m \u001b[m\u001b[m\u001b[38;2;72;32;82;7m \u001b[m\u001b[m\u001b[38;2;72;32;82;7m \u001b[m\u001b[m\u001b[38;2;72;32;82;7m \u001b[m\u001b[m\u001b[38;2;72;32;82;7m \u001b[m\u001b[m\u001b[38;2;72;32;82;7m \u001b[m\u001b[m\u001b[38;2;72;32;82;7m       \u001b[m\u001b[m\u001b[38;2;72;32;82;7m \u001b[m\u001b[m\u001b[38;2;72;32;82;7m \u001b[m\u001b[m\u001b[38;2;72;32;82;7m \u001b[m\u001b[m\u001b[38;2;72;32;82;7m \u001b[m\u001b[m\u001b[38;2;217;141;145;7m \u001b[m\u001b[m\u001b[38;2;217;141;145;7m \u001b[m\u001b[m\u001b[38;2;217;141;145;7m \u001b[m\u001b[m\u001b[38;2;217;141;145;7m \u001b[m\u001b[m\u001b[38;2;217;141;145;7m \u001b[m\u001b[m\u001b[38;2;217;141;145;7m       \u001b[m\u001b[m\u001b[38;2;217;141;145;7m \u001b[m\u001b[m\u001b[38;2;217;141;145;7m \u001b[m\u001b[m\u001b[38;2;217;141;145;7m \u001b[m\u001b[m\u001b[38;2;217;141;145;7m \u001b[m\n",
      "\u001b[m\u001b[38;2;60;24;178;7m \u001b[m\u001b[m\u001b[38;2;60;24;178;7m \u001b[m\u001b[m\u001b[38;2;60;24;178;7m \u001b[m\u001b[m\u001b[38;2;60;24;178;7m \u001b[m\u001b[m\u001b[38;2;60;24;178;7m \u001b[m\u001b[m\u001b[38;2;60;24;178;7m       \u001b[m\u001b[m\u001b[38;2;60;24;178;7m \u001b[m\u001b[m\u001b[38;2;60;24;178;7m \u001b[m\u001b[m\u001b[38;2;60;24;178;7m \u001b[m\u001b[m\u001b[38;2;60;24;178;7m \u001b[m\u001b[m\u001b[38;2;35;65;6;7m \u001b[m\u001b[m\u001b[38;2;35;65;6;7m \u001b[m\u001b[m\u001b[38;2;35;65;6;7m \u001b[m\u001b[m\u001b[38;2;35;65;6;7m \u001b[m\u001b[m\u001b[38;2;35;65;6;7m \u001b[m\u001b[m\u001b[38;2;35;65;6;7m       \u001b[m\u001b[m\u001b[38;2;35;65;6;7m \u001b[m\u001b[m\u001b[38;2;35;65;6;7m \u001b[m\u001b[m\u001b[38;2;35;65;6;7m \u001b[m\u001b[m\u001b[38;2;35;65;6;7m \u001b[m\u001b[m\u001b[38;2;133;186;119;7m \u001b[m\u001b[m\u001b[38;2;133;186;119;7m \u001b[m\u001b[m\u001b[38;2;133;186;119;7m \u001b[m\u001b[m\u001b[38;2;133;186;119;7m \u001b[m\u001b[m\u001b[38;2;133;186;119;7m \u001b[m\u001b[m\u001b[38;2;133;186;119;7m       \u001b[m\u001b[m\u001b[38;2;133;186;119;7m \u001b[m\u001b[m\u001b[38;2;133;186;119;7m \u001b[m\u001b[m\u001b[38;2;133;186;119;7m \u001b[m\u001b[m\u001b[38;2;133;186;119;7m \u001b[m\u001b[m\u001b[38;2;72;32;82;7m \u001b[m\u001b[m\u001b[38;2;72;32;82;7m \u001b[m\u001b[m\u001b[38;2;72;32;82;7m \u001b[m\u001b[m\u001b[38;2;72;32;82;7m \u001b[m\u001b[m\u001b[38;2;72;32;82;7m \u001b[m\u001b[m\u001b[38;2;72;32;82;7m       \u001b[m\u001b[m\u001b[38;2;72;32;82;7m \u001b[m\u001b[m\u001b[38;2;72;32;82;7m \u001b[m\u001b[m\u001b[38;2;72;32;82;7m \u001b[m\u001b[m\u001b[38;2;72;32;82;7m \u001b[m\u001b[m\u001b[38;2;217;141;145;7m \u001b[m\u001b[m\u001b[38;2;217;141;145;7m \u001b[m\u001b[m\u001b[38;2;217;141;145;7m \u001b[m\u001b[m\u001b[38;2;217;141;145;7m \u001b[m\u001b[m\u001b[38;2;217;141;145;7m \u001b[m\u001b[m\u001b[38;2;217;141;145;7m       \u001b[m\u001b[m\u001b[38;2;217;141;145;7m \u001b[m\u001b[m\u001b[38;2;217;141;145;7m \u001b[m\u001b[m\u001b[38;2;217;141;145;7m \u001b[m\u001b[m\u001b[38;2;217;141;145;7m \u001b[m\n",
      "\u001b[m\n"
     ]
    }
   ],
   "source": [
    "LightBoard lightBoard = new LightBoard(5, 5);\n",
    "System.out.println(lightBoard.toColorPalette());"
   ]
  },
  {
   "cell_type": "markdown",
   "metadata": {},
   "source": [
    "## Hacks\n",
    "> There are many ideas and possibilities with 2D arrays.\n",
    "- Java skill.  Complete FRQ4.\n",
    "- Java skill.  Establish key concepts and code examples on 2D arrays using FRQ4 and code above.  Build vocab and add a new terminal concept.  For instance, color board does not have things like on/off or effects.\n",
    "- Full stack skill.  Think about Frontend, Backend use case to make the existing color board into more of a light board show.  Perhaps on a timer to change Frontend color board to be a light show, with all the CSS and HTML possibilities.  Ideate something of your own, break away from board."
   ]
  }
 ],
 "metadata": {
  "kernelspec": {
   "display_name": "Java",
   "language": "java",
   "name": "java"
  },
  "language_info": {
   "codemirror_mode": "java",
   "file_extension": ".jshell",
   "mimetype": "text/x-java-source",
   "name": "Java",
   "pygments_lexer": "java",
   "version": "17.0.3+7"
  },
  "orig_nbformat": 4,
  "vscode": {
   "interpreter": {
    "hash": "aee8b7b246df8f9039afb4144a1f6fd8d2ca17a180786b69acc140d282b71a49"
   }
  }
 },
 "nbformat": 4,
 "nbformat_minor": 2
}
