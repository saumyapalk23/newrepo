{
 "cells": [
  {
   "cell_type": "markdown",
   "metadata": {},
   "source": [
    "# Unit 10 - Inheritance\n",
    ">  Student Led Instruction.\n",
    "- title: Unit 10 - Recursion\n",
    "- toc: true\n",
    "- badges: false\n",
    "- image: /images/apcsa_units.png\n",
    "- type: ap\n",
    "- week: 16\n",
    "- comments: true"
   ]
  },
  {
   "cell_type": "markdown",
   "metadata": {},
   "source": [
    "## Objectives\n",
    "> Make sure lesson has the following...\n",
    "- Lesson Purpose and Objectives\n",
    "- Review of Unit Materials and Videos from AP Classroom\n",
    "- Key Vocabulary\n",
    "- Key Coding requirements, by interactive coding challenges during lesson\n",
    "- Highlight any Tricks or Gotchas from Unit, could be added to coding challenge\n",
    "- Lesson should be interactive and hopefully fun\n",
    "- 30 minutes of Homework / Hacks\n",
    "- Lesson times is between 20 and 30 minutes"
   ]
  }
 ],
 "metadata": {
  "kernelspec": {
   "display_name": "Python 3.10.6 64-bit",
   "language": "python",
   "name": "python3"
  },
  "language_info": {
   "name": "python",
   "version": "3.10.6"
  },
  "orig_nbformat": 4,
  "vscode": {
   "interpreter": {
    "hash": "aee8b7b246df8f9039afb4144a1f6fd8d2ca17a180786b69acc140d282b71a49"
   }
  }
 },
 "nbformat": 4,
 "nbformat_minor": 2
}
