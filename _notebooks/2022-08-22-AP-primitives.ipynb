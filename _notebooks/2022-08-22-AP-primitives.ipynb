{
 "cells": [
  {
   "cell_type": "markdown",
   "metadata": {},
   "source": [
    "# Primitive Data Types\n",
    "> An introduction to primitive types using input, output, and finishing with a grading calculator.\n",
    "\n",
    "- title: Primitive Data Types\n",
    "- toc: true\n",
    "- categories: [2.A, 2.B]\n",
    "- permalink: /unit/1\n",
    "- image: /images/data_types.png\n",
    "- type: ap\n",
    "- week: 1"
   ]
  },
  {
   "cell_type": "markdown",
   "metadata": {},
   "source": [
    "## College Board Summary\n",
    "College Board focus is on primitive types of int, double, and boolean.  In unit1, String is mentioned, but it is technically a Wrapper Class.  The primitive type that is building block for a String is a single character called char.  String is an array of char's and the uppercase S in String means it is a Class."
   ]
  },
  {
   "cell_type": "markdown",
   "metadata": {},
   "source": [
    "### Data Types\n",
    "Now is a good time to understand data types.  There are primitive types in Java, but you should know there are [Wrapper Classes](https://www.youtube.com/watch?v=kog78g2fvqU).  Java likes everything to be a class.  String is a Non-Primitive data type that is a Class in Java.\n",
    "\n",
    "![img](images/data_types.png)"
   ]
  },
  {
   "cell_type": "code",
   "execution_count": null,
   "metadata": {},
   "outputs": [],
   "source": [
    "public class DefinePrimitives {\n",
    "    public static void main(String[] args) {\n",
    "      int anInt = 100;\n",
    "      double aDouble = 89.9;\n",
    "      boolean aBoolean = true;\n",
    "\n",
    "      // not primitives but essential\n",
    "      String aString = \"Hello, World!\";   // wrapper class shortcut assignment\n",
    "      String aStringFormal = new String(\"Greetings, World!\");\n",
    "  \n",
    "      System.out.println(\"anInt: \" + anInt);\n",
    "      System.out.println(\"aDouble: \" + aDouble);\n",
    "      System.out.println(\"aBoolean: \" + aBoolean);\n",
    "      System.out.println(\"aString: \" + aString);\n",
    "      System.out.println(\"aStringFormal: \" + aStringFormal);\n",
    "    }\n",
    "  }\n",
    "  DefinePrimitives.main(null)"
   ]
  },
  {
   "cell_type": "markdown",
   "metadata": {},
   "source": [
    "### Input Primitive data\n",
    "Input is a key concept to all programming.  The assignments in previous example are \"static\" or \"hard coded\".  The examples when you use input are supplied by the user.\n",
    "\n",
    "Scanner is the java utility class for console input."
   ]
  },
  {
   "cell_type": "code",
   "execution_count": null,
   "metadata": {},
   "outputs": [],
   "source": [
    "// java style to import library\n",
    "import java.util.Scanner;\n",
    "\n",
    "// class must alway have 1st letter as uppercase, CamelCase is Java Class convention\n",
    "public class ScanPrimitives {\n",
    "    public static void main(String[] args) {    \n",
    "        Scanner input;\n",
    "\n",
    "        // primitive int\n",
    "        input = new Scanner(System.in);\n",
    "        System.out.print(\"Enter an integer: \");\n",
    "        try {\n",
    "            int sampleInputInt = input.nextInt();\n",
    "            System.out.println(sampleInputInt);\n",
    "        } catch (Exception e) {  // if not an integer\n",
    "            System.out.println(\"Not an integer (form like 159), \" + e);\n",
    "        }\n",
    "        input.close();\n",
    "\n",
    "        // primitive double\n",
    "        input = new Scanner(System.in);\n",
    "        System.out.print(\"Enter a double: \");\n",
    "        try {\n",
    "            double sampleInputDouble = input.nextDouble();\n",
    "            System.out.println(sampleInputDouble);\n",
    "        } catch (Exception e) {  // if not a number\n",
    "            System.out.println(\"Not an double (form like 9.99), \" + e);\n",
    "        }\n",
    "        input.close();\n",
    "\n",
    "        // primitive boolean\n",
    "        input =  new Scanner(System.in);\n",
    "        System.out.print(\"Enter a boolean: \");\n",
    "        try {\n",
    "            boolean sampleInputBoolean = input.nextBoolean();\n",
    "            System.out.println(sampleInputBoolean);\n",
    "        } catch (Exception e) {  // if not true or false\n",
    "            System.out.println(\"Not an boolean (true or false), \" + e);\n",
    "        }\n",
    "        input.close();\n",
    "\n",
    "        // wrapper class String\n",
    "        input =  new Scanner(System.in);\n",
    "        System.out.print(\"Enter a String: \");\n",
    "        try {\n",
    "            String sampleInputString = input.nextLine();\n",
    "            System.out.println(sampleInputString);\n",
    "        } catch (Exception e) { // this may never happen\n",
    "            System.out.println(\"Not an String, \" + e);\n",
    "        }\n",
    "        input.close();\n",
    "    }\n",
    "}\n",
    "ScanPrimitives.main(null);"
   ]
  },
  {
   "cell_type": "markdown",
   "metadata": {},
   "source": [
    "### Output Primitive Data\n",
    "The second key to to all programming is Output.  All programming has means to format and combine data.  In these examples you see descriptions of the mathematical operation combine with the result of the operation."
   ]
  },
  {
   "cell_type": "code",
   "execution_count": null,
   "metadata": {},
   "outputs": [],
   "source": [
    "public class PrimitiveDivision {\n",
    "    public static void main(String[] args) {\n",
    "        int i1 = 7, i2 = 2;\n",
    "        System.out.println(\"Integer Division\");\n",
    "        System.out.println(\"\\tint output with concatenation: \" + i1 + \"/\" + i2 + \" = \" + i1/i2);\n",
    "        System.out.println(String.format(\"\\tint output with format: %d/%d = %d\",i1, i2, i1/i2));\n",
    "        System.out.printf(\"\\tint output with printf: %d/%d = %d\\n\",i1, i2, i1/i2);\n",
    "\n",
    "        double d1 = 7, d2 = 2;\n",
    "        System.out.println(\"Double Division\");\n",
    "        System.out.println(\"\\tdouble output with concatenation: \" + d1 + \"/\" + d2 + \" = \" + d1/d2);\n",
    "        System.out.println(String.format(\"\\tdouble output with format: %.2f/%.2f = %.2f\",d1, d2, d1/d2));\n",
    "        System.out.printf(\"\\tdouble output with printf: %.2f/%.2f = %.2f\\n\",d1, d2, d1/d2);\n",
    "\n",
    "        System.out.println(\"Casting and Remainders\");\n",
    "        System.out.printf(\"\\tint cast to double on division: %d/%d = %.2f\\n\",i1, i2, i1/(double)i2);\n",
    "        System.out.println(\"\\tint using modulo for remainder: \" + i1 + \"/\" + i2 + \" = \" + i1/i2 + \" remainder \" + i1%i2);\n",
    "    }\n",
    "}\n",
    "PrimitiveDivision.main(null);"
   ]
  },
  {
   "cell_type": "markdown",
   "metadata": {},
   "source": [
    "### Grade Calculator, putting Input and Output together\n",
    "Primitive types rarely stand alone.  This lab uses the primitive type double, but it also introduces the wrapper class Double.  Also included is one of the most common Data Structures in Java, the ArrayList.  These items are put together to create a grade calculator."
   ]
  },
  {
   "cell_type": "code",
   "execution_count": null,
   "metadata": {},
   "outputs": [],
   "source": [
    "public class GradeCalculator {\n",
    "    // introduction to Double wrapper class (object)\n",
    "    ArrayList<Double> grades;   // similar to Python list\n",
    "\n",
    "    // constructor, initializes ArrayList and call enterGrades method\n",
    "    public GradeCalculator() {\n",
    "        this.grades = new ArrayList<>();\n",
    "        this.enterGrades();\n",
    "    }\n",
    "\n",
    "    // double requires test for zero versus threshold, DO NOT compare to Zero\n",
    "    private boolean isZero(double value){\n",
    "        double threshold = 0.001;\n",
    "        return value >= -threshold && value <= threshold;\n",
    "    }\n",
    "\n",
    "\n",
    "    // enterGrades input method using scanner\n",
    "    private void enterGrades() {\n",
    "        Scanner input;\n",
    "\n",
    "        while (true) {\n",
    "            input = new Scanner(System.in);\n",
    "            System.out.print(\"Enter a double, 0 to exit: \");\n",
    "            try {\n",
    "                double sampleInputDouble = input.nextDouble();\n",
    "                System.out.println(sampleInputDouble);\n",
    "                if (isZero(sampleInputDouble)) break;       // exit loop on isZero\n",
    "                else this.grades.add(sampleInputDouble);    // adding to object, ArrayList grades\n",
    "            } catch (Exception e) {  // if not a number\n",
    "                System.out.println(\"Not an double (form like 9.99), \" + e);\n",
    "            }\n",
    "            input.close();\n",
    "        }\n",
    "    }\n",
    "\n",
    "    // average calculation \n",
    "    public double average() {\n",
    "        double total = 0;   // running total\n",
    "        for (double num : this.grades) {    // enhanced for loop\n",
    "            total += num;   // shortcut add and assign operator\n",
    "        }\n",
    "        return (total / this.grades.size());  // double math, ArrayList grades object maintains its size\n",
    "    }\n",
    "\n",
    "    // static main method, used as driver and tester\n",
    "    public static void main(String[] args) {\n",
    "        GradeCalculator grades = new GradeCalculator(); // calls constructor, creates object, which calls enterGrades\n",
    "        System.out.println(\"Average: \" + String.format(\"%.2f\", grades.average()));  // format used to standardize to two decimal points\n",
    "    }\n",
    "}\n",
    "// IJava activation\n",
    "GradeCalculator.main(null);"
   ]
  },
  {
   "cell_type": "markdown",
   "metadata": {},
   "source": [
    "## Hacks\n",
    "Build your own Jupyter Notebook meeting these College Board and CTE competencies\n",
    "- Define in a Class the following data types\n",
    "    - Demonstrate use of Primitives: int, double, boolean, string\n",
    "    - Demonstrate use of Wrapper Class object: String \n",
    "- Describe in comments how each data type choice is appropriate to application\n",
    "- Perform arithmetic expressions and assignment in a program code [Code.org Lesson](https://studio.code.org/s/csa2-2022/lessons/2/student)\n",
    "- Determine what is result is in a variable as a result of an data type and expression (ie integer vs double)\n",
    "- Perform an arithmetic expressions that uses casting, add comments that show how it produces desired result.  Learn more by watching this [College Board video](https://apclassroom.collegeboard.org/8/home?apd=ovg96bpudo&unit=1)\n",
    "- Perform compound assignment operator (ie +=), add comments to describe the result of operator\n",
    "\n",
    "Additional requirements\n",
    "1. Multiple inputs and outputs are required\n",
    "2. Jupyter NoteBook when committed to Fastpages must display Outputs\n",
    "3. Building something that helps you study for another class is encouraged, here are some ideas: MPG, GPA, Celsius <--> Fahrenheit, The nth Fibonacci, GCD, Primes in range of numbers, Points per Game "
   ]
  },
  {
   "cell_type": "markdown",
   "metadata": {},
   "source": []
  }
 ],
 "metadata": {
  "kernelspec": {
   "display_name": "Java",
   "language": "java",
   "name": "java"
  },
  "language_info": {
   "codemirror_mode": "java",
   "file_extension": ".jshell",
   "mimetype": "text/x-java-source",
   "name": "java",
   "pygments_lexer": "java",
   "version": "17.0.3+7"
  },
  "orig_nbformat": 4
 },
 "nbformat": 4,
 "nbformat_minor": 2
}
